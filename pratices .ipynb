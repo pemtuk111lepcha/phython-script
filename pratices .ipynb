{
 "cells": [
  {
   "cell_type": "code",
   "execution_count": 1,
   "id": "96129612",
   "metadata": {},
   "outputs": [],
   "source": [
    "#TLO1"
   ]
  },
  {
   "cell_type": "code",
   "execution_count": 2,
   "id": "02b727ac",
   "metadata": {},
   "outputs": [
    {
     "name": "stdout",
     "output_type": "stream",
     "text": [
      "30 35.0 2.857142857142857\n"
     ]
    }
   ],
   "source": [
    "a = 10\n",
    "b = 3.5\n",
    "c = \"20\"\n",
    "result1 = a + int(c)\n",
    "result2 = a * b\n",
    "result3 = a / b\n",
    "print(result1, result2, result3)"
   ]
  },
  {
   "cell_type": "code",
   "execution_count": 5,
   "id": "3c76f265",
   "metadata": {},
   "outputs": [
    {
     "name": "stdout",
     "output_type": "stream",
     "text": [
      "is\n"
     ]
    }
   ],
   "source": [
    "s = \"Programming is fun!\"\n",
    "extracted_word = s[12:14]\n",
    "print(extracted_word)"
   ]
  },
  {
   "cell_type": "code",
   "execution_count": 6,
   "id": "faf1dce3",
   "metadata": {},
   "outputs": [
    {
     "name": "stdout",
     "output_type": "stream",
     "text": [
      "The area of the rectangle is: 50\n"
     ]
    }
   ],
   "source": [
    "l = 10\n",
    "w = 5\n",
    "area = l * w\n",
    "print(\"The area of the rectangle is:\", area)"
   ]
  },
  {
   "cell_type": "code",
   "execution_count": 7,
   "id": "6298c798",
   "metadata": {},
   "outputs": [
    {
     "name": "stdout",
     "output_type": "stream",
     "text": [
      "Sum: 15\n",
      "Difference: -5\n",
      "Product: 50\n",
      "Quotient: 0.5\n"
     ]
    }
   ],
   "source": [
    "x = 5\n",
    "y = 10\n",
    "sum_result = x + y\n",
    "diff_result = x - y\n",
    "prod_result = x * y\n",
    "quot_result = x / y\n",
    "print(\"Sum:\", sum_result)\n",
    "print(\"Difference:\", diff_result)\n",
    "print(\"Product:\", prod_result)\n",
    "print(\"Quotient:\", quot_result)"
   ]
  },
  {
   "cell_type": "code",
   "execution_count": 8,
   "id": "72760e2d",
   "metadata": {},
   "outputs": [
    {
     "name": "stdout",
     "output_type": "stream",
     "text": [
      "The remainder of the division is: 3\n"
     ]
    }
   ],
   "source": [
    "a = 15\n",
    "b = 4\n",
    "remainder = a % b\n",
    "print(\"The remainder of the division is:\", remainder)\n"
   ]
  },
  {
   "cell_type": "code",
   "execution_count": null,
   "id": "1e74fefa",
   "metadata": {},
   "outputs": [],
   "source": [
    "x = float(input(\"Enter the first number: \"))\n",
    "y = float(input(\"Enter the second number: \"))\n",
    "\n",
    "sum_result = x + y\n",
    "diff_result = x - y\n",
    "prod_result = x * y\n",
    "quot_result = x / y\n",
    "\n",
    "print(\"Sum:\", sum_result)\n",
    "print(\"Difference:\", diff_result)\n",
    "print(\"Product:\", prod_result)\n",
    "print(\"Quotient:\", quot_result)"
   ]
  },
  {
   "cell_type": "code",
   "execution_count": null,
   "id": "c0977736",
   "metadata": {},
   "outputs": [],
   "source": [
    "l = float(input(\"Enter the length of the rectangle: \"))\n",
    "w = float(input(\"Enter the width of the rectangle: \"))\n",
    "area = l * w\n",
    "print(\"The area of the rectangle is:\", area)"
   ]
  },
  {
   "cell_type": "code",
   "execution_count": 2,
   "id": "0a117a35",
   "metadata": {},
   "outputs": [],
   "source": [
    "#TLO3(strings, lists, dictionaries, tuples, and sets in Python )"
   ]
  },
  {
   "cell_type": "markdown",
   "id": "9fa7ab30",
   "metadata": {},
   "source": [
    "1. Exercise: Concatenate two strings and find the length of the concatenated string."
   ]
  },
  {
   "cell_type": "code",
   "execution_count": 3,
   "id": "fb64a048",
   "metadata": {},
   "outputs": [
    {
     "name": "stdout",
     "output_type": "stream",
     "text": [
      "Length of the concatenated string: 17\n"
     ]
    }
   ],
   "source": [
    "string1 = \"Python\"\n",
    "string2 = \"Programming\"\n",
    "concatenated_string = string1 + string2\n",
    "length = len(concatenated_string)\n",
    "print(\"Length of the concatenated string:\", length)\n"
   ]
  },
  {
   "cell_type": "markdown",
   "id": "a7c751fd",
   "metadata": {},
   "source": [
    "2. Exercise: Find the index of a specific character in a string."
   ]
  },
  {
   "cell_type": "code",
   "execution_count": 4,
   "id": "077ec632",
   "metadata": {},
   "outputs": [
    {
     "name": "stdout",
     "output_type": "stream",
     "text": [
      "Index of character 'p': 31\n"
     ]
    }
   ],
   "source": [
    "input_string = \"Python is an easy-to-learn and powerful programming language\"\n",
    "character_to_find = \"p\"\n",
    "index = input_string.find(character_to_find)\n",
    "print(f\"Index of character '{character_to_find}': {index}\")"
   ]
  },
  {
   "cell_type": "markdown",
   "id": "13dc0245",
   "metadata": {},
   "source": [
    "3. Exercise: Use a dictionary to store the following key-value pairs: {\"A\": 1, \"B\": 2, \"C\": 3}. Retrieve the value associated with the key \"B\"."
   ]
  },
  {
   "cell_type": "code",
   "execution_count": 5,
   "id": "8b4c9580",
   "metadata": {},
   "outputs": [
    {
     "name": "stdout",
     "output_type": "stream",
     "text": [
      "Value associated with key 'B': 2\n"
     ]
    }
   ],
   "source": [
    "my_dict = {\"A\": 1, \"B\": 2, \"C\": 3}\n",
    "value = my_dict.get(\"B\")\n",
    "print(\"Value associated with key 'B':\", value)\n"
   ]
  },
  {
   "cell_type": "markdown",
   "id": "47a8b2cb",
   "metadata": {},
   "source": [
    "4. Exercise: Create a tuple with the following elements: 1, 4, 9, 16, 25. Find the length of the tuple."
   ]
  },
  {
   "cell_type": "code",
   "execution_count": 6,
   "id": "886d0b62",
   "metadata": {},
   "outputs": [
    {
     "name": "stdout",
     "output_type": "stream",
     "text": [
      "Length of the tuple: 5\n"
     ]
    }
   ],
   "source": [
    "my_tuple = (1, 4, 9, 16, 25)\n",
    "length = len(my_tuple)\n",
    "print(\"Length of the tuple:\", length)"
   ]
  },
  {
   "cell_type": "markdown",
   "id": "56efb08d",
   "metadata": {},
   "source": [
    "5. Exercise: Create a set with the following elements: 1, 2, 3, 4, 5, 2, 3, 4. Find the length of the set."
   ]
  },
  {
   "cell_type": "code",
   "execution_count": 7,
   "id": "daf0d601",
   "metadata": {},
   "outputs": [
    {
     "name": "stdout",
     "output_type": "stream",
     "text": [
      "Length of the set: 5\n"
     ]
    }
   ],
   "source": [
    "my_set = {1, 2, 3, 4, 5, 2, 3, 4}\n",
    "length = len(my_set)\n",
    "print(\"Length of the set:\", length)\n"
   ]
  },
  {
   "cell_type": "markdown",
   "id": "845ada43",
   "metadata": {},
   "source": [
    "6. Exercise: Check if a given string is a palindrome or not."
   ]
  },
  {
   "cell_type": "code",
   "execution_count": 8,
   "id": "745ed650",
   "metadata": {},
   "outputs": [
    {
     "name": "stdout",
     "output_type": "stream",
     "text": [
      "Is 'madam' a palindrome? True\n"
     ]
    }
   ],
   "source": [
    "input_string = \"madam\"\n",
    "is_palindrome = input_string.lower() == input_string.lower()[::-1]\n",
    "print(f\"Is '{input_string}' a palindrome? {is_palindrome}\")\n"
   ]
  },
  {
   "cell_type": "markdown",
   "id": "781b82ae",
   "metadata": {},
   "source": [
    "7. Exercise: Find the maximum and minimum values in a list.\n"
   ]
  },
  {
   "cell_type": "code",
   "execution_count": 9,
   "id": "c1c8026e",
   "metadata": {},
   "outputs": [
    {
     "name": "stdout",
     "output_type": "stream",
     "text": [
      "Maximum value: 9\n",
      "Minimum value: 1\n"
     ]
    }
   ],
   "source": [
    "my_list = [4, 6, 2, 9, 1, 3]\n",
    "max_value = max(my_list)\n",
    "min_value = min(my_list)\n",
    "print(\"Maximum value:\", max_value)\n",
    "print(\"Minimum value:\", min_value)"
   ]
  },
  {
   "cell_type": "markdown",
   "id": "9e639f6e",
   "metadata": {},
   "source": [
    "8. Exercise: Replace a specific character in a string."
   ]
  },
  {
   "cell_type": "code",
   "execution_count": 10,
   "id": "be7054c6",
   "metadata": {},
   "outputs": [
    {
     "name": "stdout",
     "output_type": "stream",
     "text": [
      "String with 'a' replaced by 'A': Python is An eAsy-to-leArn And powerful progrAmming lAnguAge\n"
     ]
    }
   ],
   "source": [
    "input_string = \"Python is an easy-to-learn and powerful programming language\"\n",
    "character_to_replace = \"a\"\n",
    "replacement = \"A\"\n",
    "new_string = input_string.replace(character_to_replace, replacement)\n",
    "print(f\"String with '{character_to_replace}' replaced by '{replacement}': {new_string}\")"
   ]
  },
  {
   "cell_type": "markdown",
   "id": "0a08b351",
   "metadata": {},
   "source": [
    "9. Exercise: Merge two dictionaries."
   ]
  },
  {
   "cell_type": "code",
   "execution_count": 11,
   "id": "d17afca1",
   "metadata": {},
   "outputs": [
    {
     "name": "stdout",
     "output_type": "stream",
     "text": [
      "Merged dictionary: {'A': 1, 'B': 2, 'C': 3, 'D': 4, 'E': 5, 'F': 6}\n"
     ]
    }
   ],
   "source": [
    "dict1 = {\"A\": 1, \"B\": 2, \"C\": 3}\n",
    "dict2 = {\"D\": 4, \"E\": 5, \"F\": 6}\n",
    "merged_dict = {**dict1, **dict2}\n",
    "print(\"Merged dictionary:\", merged_dict)"
   ]
  },
  {
   "cell_type": "markdown",
   "id": "e88f891c",
   "metadata": {},
   "source": [
    "10. Exercise: Check if a given value exists in a tuple."
   ]
  },
  {
   "cell_type": "code",
   "execution_count": 12,
   "id": "96fd44b6",
   "metadata": {},
   "outputs": [
    {
     "name": "stdout",
     "output_type": "stream",
     "text": [
      "Does value 9 exist in the tuple? True\n"
     ]
    }
   ],
   "source": [
    "my_tuple = (1, 4, 9, 16, 25)\n",
    "value_to_check = 9\n",
    "value_exists = value_to_check in my_tuple\n",
    "print(f\"Does value {value_to_check} exist in the tuple? {value_exists}\")"
   ]
  },
  {
   "cell_type": "markdown",
   "id": "6ecf7eb3",
   "metadata": {},
   "source": [
    "11. Exercise: Remove duplicates from a list and create a new set."
   ]
  },
  {
   "cell_type": "code",
   "execution_count": 13,
   "id": "0b956247",
   "metadata": {},
   "outputs": [
    {
     "name": "stdout",
     "output_type": "stream",
     "text": [
      "Set without duplicates: {1, 2, 3, 4, 5}\n"
     ]
    }
   ],
   "source": [
    "my_list = [1, 2, 3, 4, 5, 2, 3, 4]\n",
    "unique_set = set(my_list)\n",
    "print(\"Set without duplicates:\", unique_set)"
   ]
  },
  {
   "cell_type": "code",
   "execution_count": 15,
   "id": "416343e2",
   "metadata": {},
   "outputs": [],
   "source": [
    "#TLO4(booleans, comparison operators, and I/O operations in Python )"
   ]
  },
  {
   "cell_type": "markdown",
   "id": "3cd8f8aa",
   "metadata": {},
   "source": [
    "1.Create a script that reads the entire content of a file named \"example.txt\" and prints the content."
   ]
  },
  {
   "cell_type": "code",
   "execution_count": 17,
   "id": "5f10b420",
   "metadata": {
    "scrolled": true
   },
   "outputs": [
    {
     "name": "stdout",
     "output_type": "stream",
     "text": [
      "HELLO this is the first file\n",
      "this is second line\n",
      "this is third line\n",
      "\n"
     ]
    }
   ],
   "source": [
    "with open(\"myfile.txt\", \"r\") as file:\n",
    "    content = file.read()\n",
    "    print(content)"
   ]
  },
  {
   "cell_type": "markdown",
   "id": "03a570dc",
   "metadata": {},
   "source": [
    "2.Create a script that reads the first line of a file named \"example.txt\" and prints it."
   ]
  },
  {
   "cell_type": "code",
   "execution_count": 18,
   "id": "0a4e2e37",
   "metadata": {},
   "outputs": [
    {
     "name": "stdout",
     "output_type": "stream",
     "text": [
      "HELLO this is the first file\n",
      "\n"
     ]
    }
   ],
   "source": [
    "with open(\"myfile.txt\", \"r\") as file:\n",
    "    first_line = file.readline()\n",
    "    print(first_line)\n"
   ]
  },
  {
   "cell_type": "markdown",
   "id": "1e6b12ed",
   "metadata": {},
   "source": [
    "3.Create a script that creates a new file named \"empty.txt\" and writes the string \"This is an empty file.\" to it."
   ]
  },
  {
   "cell_type": "code",
   "execution_count": 20,
   "id": "e531fbe5",
   "metadata": {},
   "outputs": [],
   "source": [
    "with open(\"empty.txt\", \"w\") as file:\n",
    "    file.write(\"This is an empty file.\")\n"
   ]
  },
  {
   "cell_type": "markdown",
   "id": "bc406efd",
   "metadata": {},
   "source": [
    "4.Create a script that appends a new line with the text \"Appended line.\" to an existing file named \"append_example.txt\"."
   ]
  },
  {
   "cell_type": "code",
   "execution_count": 22,
   "id": "02891b1c",
   "metadata": {},
   "outputs": [],
   "source": [
    "with open(\"append_myfile.txt\", \"a\") as file:\n",
    "    file.write(\"\\nAppended line.\")"
   ]
  },
  {
   "cell_type": "markdown",
   "id": "ffa259be",
   "metadata": {},
   "source": [
    "5.Create a script that reads the content of a file named \"example.txt\" and prints the number of characters in the file."
   ]
  },
  {
   "cell_type": "code",
   "execution_count": 24,
   "id": "4405b258",
   "metadata": {},
   "outputs": [
    {
     "name": "stdout",
     "output_type": "stream",
     "text": [
      "22\n"
     ]
    }
   ],
   "source": [
    "with open(\"myfile.txt\", \"r\") as file:\n",
    "    content = file.read()\n",
    "    print(len(content))"
   ]
  },
  {
   "cell_type": "markdown",
   "id": "397129de",
   "metadata": {},
   "source": [
    "6.Create a script that reads the content of a file named \"example.txt\" and prints the number of words in the file."
   ]
  },
  {
   "cell_type": "code",
   "execution_count": 26,
   "id": "2ff64898",
   "metadata": {},
   "outputs": [
    {
     "name": "stdout",
     "output_type": "stream",
     "text": [
      "5\n"
     ]
    }
   ],
   "source": [
    "with open(\"myfile.txt\", \"r\") as file:\n",
    "    content = file.read()\n",
    "    words = content.split()\n",
    "    print(len(words))\n"
   ]
  },
  {
   "cell_type": "markdown",
   "id": "548a9181",
   "metadata": {},
   "source": [
    "7.Create a script that checks if the variable num is an even number between 10 and 20 (inclusive) and prints the result."
   ]
  },
  {
   "cell_type": "code",
   "execution_count": 27,
   "id": "f93c6a91",
   "metadata": {},
   "outputs": [
    {
     "name": "stdout",
     "output_type": "stream",
     "text": [
      "True\n"
     ]
    }
   ],
   "source": [
    "num = 14\n",
    "result = 10 <= num <= 20 and num % 2 == 0\n",
    "print(result)"
   ]
  },
  {
   "cell_type": "markdown",
   "id": "53426391",
   "metadata": {},
   "source": [
    "8.Create a script that checks if the length of the string text is between 5 and 10 characters (inclusive) and contains the letter \"a\". Print the result."
   ]
  },
  {
   "cell_type": "code",
   "execution_count": 28,
   "id": "ede8446a",
   "metadata": {},
   "outputs": [
    {
     "name": "stdout",
     "output_type": "stream",
     "text": [
      "True\n"
     ]
    }
   ],
   "source": [
    "text = \"banana\"\n",
    "result = 5 <= len(text) <= 10 and 'a' in text\n",
    "print(result)\n"
   ]
  },
  {
   "cell_type": "markdown",
   "id": "b890fd49",
   "metadata": {},
   "source": [
    "9.Create a script that checks if the variable temperature is between 15 and 25 degrees Celsius (inclusive) or if the variable humidity is less than 30%. Print the result."
   ]
  },
  {
   "cell_type": "code",
   "execution_count": 30,
   "id": "670e7e07",
   "metadata": {},
   "outputs": [
    {
     "name": "stdout",
     "output_type": "stream",
     "text": [
      "True\n"
     ]
    }
   ],
   "source": [
    "temperature = 20\n",
    "humidity = 40\n",
    "result = 15 <= temperature <= 25 or humidity < 30\n",
    "print(result)"
   ]
  },
  {
   "cell_type": "markdown",
   "id": "353d87c9",
   "metadata": {},
   "source": [
    "10.Create a script that checks if the variable x is not equal to the variable y and if the variable z is greater than both x and y. Print the result."
   ]
  },
  {
   "cell_type": "code",
   "execution_count": 31,
   "id": "6ed54920",
   "metadata": {},
   "outputs": [
    {
     "name": "stdout",
     "output_type": "stream",
     "text": [
      "True\n"
     ]
    }
   ],
   "source": [
    "x = 5\n",
    "y = 7\n",
    "z = 10\n",
    "result = x != y and z > x and z > y\n",
    "print(result)"
   ]
  },
  {
   "cell_type": "markdown",
   "id": "cf8e0d1e",
   "metadata": {},
   "source": [
    "11.Create a script that checks if the variable a is equal to the variable b or if the variable c is equal to the variable d. Print the result."
   ]
  },
  {
   "cell_type": "code",
   "execution_count": 32,
   "id": "883ad4ec",
   "metadata": {},
   "outputs": [
    {
     "name": "stdout",
     "output_type": "stream",
     "text": [
      "True\n"
     ]
    }
   ],
   "source": [
    "a = 3\n",
    "b = 3\n",
    "c = 6\n",
    "d = 7\n",
    "result = a == b or c == d\n",
    "print(result)\n"
   ]
  },
  {
   "cell_type": "markdown",
   "id": "9989036f",
   "metadata": {},
   "source": [
    "12.Create a script that checks if the variable num1 is an odd number and if the variable num2 is an even number. Print the result."
   ]
  },
  {
   "cell_type": "code",
   "execution_count": 33,
   "id": "257b9fb8",
   "metadata": {},
   "outputs": [
    {
     "name": "stdout",
     "output_type": "stream",
     "text": [
      "True\n"
     ]
    }
   ],
   "source": [
    "num1 = 9\n",
    "num2 = 8\n",
    "result = num1 % 2 != 0 and num2 % 2 == 0\n",
    "print(result)\n"
   ]
  },
  {
   "cell_type": "markdown",
   "id": "c3f6f758",
   "metadata": {},
   "source": [
    "13.Create a script that checks if the variable age is between 13 and 19 (inclusive) or if the variable grade is between 7 and 12 (inclusive). Print the result."
   ]
  },
  {
   "cell_type": "code",
   "execution_count": 35,
   "id": "f7805e60",
   "metadata": {},
   "outputs": [
    {
     "name": "stdout",
     "output_type": "stream",
     "text": [
      "True\n"
     ]
    }
   ],
   "source": [
    "age = 15\n",
    "grade = 8\n",
    "result = 13 <= age <= 19 or 7 <= grade <= 12\n",
    "print(result)\n"
   ]
  },
  {
   "cell_type": "markdown",
   "id": "d4d8cd5d",
   "metadata": {},
   "source": [
    "14.Create a script that checks if the variable score is not between 30 and 60 (inclusive). Print the result."
   ]
  },
  {
   "cell_type": "code",
   "execution_count": 36,
   "id": "b3940378",
   "metadata": {},
   "outputs": [
    {
     "name": "stdout",
     "output_type": "stream",
     "text": [
      "True\n"
     ]
    }
   ],
   "source": [
    "score = 25\n",
    "result = not (30 <= score <= 60)\n",
    "print(result)\n"
   ]
  },
  {
   "cell_type": "code",
   "execution_count": null,
   "id": "2c6a57cd",
   "metadata": {},
   "outputs": [],
   "source": []
  }
 ],
 "metadata": {
  "kernelspec": {
   "display_name": "Python 3 (ipykernel)",
   "language": "python",
   "name": "python3"
  },
  "language_info": {
   "codemirror_mode": {
    "name": "ipython",
    "version": 3
   },
   "file_extension": ".py",
   "mimetype": "text/x-python",
   "name": "python",
   "nbconvert_exporter": "python",
   "pygments_lexer": "ipython3",
   "version": "3.10.9"
  }
 },
 "nbformat": 4,
 "nbformat_minor": 5
}
