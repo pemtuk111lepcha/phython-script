{
 "cells": [
  {
   "cell_type": "code",
   "execution_count": null,
   "id": "e8ac7a97",
   "metadata": {},
   "outputs": [],
   "source": [
    "x=0\n",
    "while x<5:\n",
    "    print(f'the current value of x is {x}')\n",
    "    #x=x+1\n",
    "    x+=1\n",
    "else:\n",
    "    print('x is not less then 5')"
   ]
  },
  {
   "cell_type": "code",
   "execution_count": null,
   "id": "791daa21",
   "metadata": {},
   "outputs": [],
   "source": [
    "x=50\n",
    "while x<5:\n",
    "    print(f'the current value of x is {x}')\n",
    "    #x=x+1\n",
    "    x+=1\n",
    "else:\n",
    "    print('x is not less then 5')"
   ]
  },
  {
   "cell_type": "code",
   "execution_count": null,
   "id": "9b0c2e14",
   "metadata": {},
   "outputs": [],
   "source": [
    "#break,pass,continue\n",
    "#break; out of cloeset enclosing loops\n",
    "#pass:does nothing at all\n",
    "#continue:goes to the top of the closet enclosing loop"
   ]
  },
  {
   "cell_type": "code",
   "execution_count": null,
   "id": "f30fba62",
   "metadata": {},
   "outputs": [],
   "source": [
    "x=[1,2,3]\n",
    "for item in x:\n",
    "    pass\n",
    "print('the end of my script')"
   ]
  },
  {
   "cell_type": "code",
   "execution_count": null,
   "id": "c173ba6e",
   "metadata": {},
   "outputs": [],
   "source": [
    "mystring='pemtuk'\n",
    "for letter in mystring:\n",
    "    if letter =='m':\n",
    "        continue\n",
    "    print(letter)"
   ]
  },
  {
   "cell_type": "code",
   "execution_count": null,
   "id": "5426cb87",
   "metadata": {},
   "outputs": [],
   "source": [
    "mystring='pemtuk'\n",
    "for letter in mystring:\n",
    "    if letter =='m':\n",
    "        break\n",
    "    print(letter)"
   ]
  },
  {
   "cell_type": "code",
   "execution_count": 1,
   "id": "a2403ddb",
   "metadata": {},
   "outputs": [
    {
     "name": "stdout",
     "output_type": "stream",
     "text": [
      "0\n",
      "1\n"
     ]
    }
   ],
   "source": [
    "x=0\n",
    "while x<5:\n",
    "    if x==2:\n",
    "        break\n",
    "    print(x)\n",
    "    x+=1"
   ]
  },
  {
   "cell_type": "code",
   "execution_count": null,
   "id": "d8796aa5",
   "metadata": {},
   "outputs": [],
   "source": []
  }
 ],
 "metadata": {
  "kernelspec": {
   "display_name": "Python 3 (ipykernel)",
   "language": "python",
   "name": "python3"
  },
  "language_info": {
   "codemirror_mode": {
    "name": "ipython",
    "version": 3
   },
   "file_extension": ".py",
   "mimetype": "text/x-python",
   "name": "python",
   "nbconvert_exporter": "python",
   "pygments_lexer": "ipython3",
   "version": "3.10.9"
  }
 },
 "nbformat": 4,
 "nbformat_minor": 5
}
