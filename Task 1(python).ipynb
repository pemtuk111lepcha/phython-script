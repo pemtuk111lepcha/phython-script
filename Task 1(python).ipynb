{
 "cells": [
  {
   "cell_type": "markdown",
   "id": "740085ca",
   "metadata": {},
   "source": [
    "1.vrebial"
   ]
  },
  {
   "cell_type": "code",
   "execution_count": 4,
   "id": "ac7f439e",
   "metadata": {},
   "outputs": [
    {
     "name": "stdout",
     "output_type": "stream",
     "text": [
      "12\n",
      "8\n",
      "20\n",
      "5.0\n"
     ]
    }
   ],
   "source": [
    "a=2\n",
    "b=10\n",
    "add=a+b\n",
    "sub=b-a\n",
    "devid=b/a\n",
    "multi=a*b\n",
    "print(add)\n",
    "print(sub)\n",
    "print(multi)\n",
    "print(devid)"
   ]
  },
  {
   "cell_type": "markdown",
   "id": "ded97967",
   "metadata": {},
   "source": [
    "2.string"
   ]
  },
  {
   "cell_type": "code",
   "execution_count": 5,
   "id": "01315652",
   "metadata": {},
   "outputs": [],
   "source": [
    "myname='pemtuklepcha'"
   ]
  },
  {
   "cell_type": "code",
   "execution_count": 6,
   "id": "2b748d1c",
   "metadata": {},
   "outputs": [
    {
     "data": {
      "text/plain": [
       "'pemtuklepcha'"
      ]
     },
     "execution_count": 6,
     "metadata": {},
     "output_type": "execute_result"
    }
   ],
   "source": [
    "myname"
   ]
  },
  {
   "cell_type": "code",
   "execution_count": 7,
   "id": "8ab13ac5",
   "metadata": {},
   "outputs": [
    {
     "data": {
      "text/plain": [
       "12"
      ]
     },
     "execution_count": 7,
     "metadata": {},
     "output_type": "execute_result"
    }
   ],
   "source": [
    "len(myname)"
   ]
  },
  {
   "cell_type": "markdown",
   "id": "b6baa4f9",
   "metadata": {},
   "source": [
    "3.area of rectangle"
   ]
  },
  {
   "cell_type": "code",
   "execution_count": 16,
   "id": "bee0a750",
   "metadata": {},
   "outputs": [
    {
     "name": "stdout",
     "output_type": "stream",
     "text": [
      "200\n"
     ]
    }
   ],
   "source": [
    "length=10\n",
    "width=20\n",
    "area=length*wwidth\n",
    "print(area)"
   ]
  },
  {
   "cell_type": "code",
   "execution_count": 2,
   "id": "0841d567",
   "metadata": {},
   "outputs": [
    {
     "data": {
      "text/plain": [
       "'is'"
      ]
     },
     "execution_count": 2,
     "metadata": {},
     "output_type": "execute_result"
    }
   ],
   "source": [
    "s=\"programing is fun\"\n",
    "s[11:13]"
   ]
  },
  {
   "cell_type": "code",
   "execution_count": 1,
   "id": "5f4646e5",
   "metadata": {},
   "outputs": [
    {
     "ename": "NameError",
     "evalue": "name 's' is not defined",
     "output_type": "error",
     "traceback": [
      "\u001b[1;31m---------------------------------------------------------------------------\u001b[0m",
      "\u001b[1;31mNameError\u001b[0m                                 Traceback (most recent call last)",
      "Input \u001b[1;32mIn [1]\u001b[0m, in \u001b[0;36m<cell line: 1>\u001b[1;34m()\u001b[0m\n\u001b[1;32m----> 1\u001b[0m \u001b[43ms\u001b[49m[\u001b[38;5;241m11\u001b[39m:\u001b[38;5;241m13\u001b[39m]\n",
      "\u001b[1;31mNameError\u001b[0m: name 's' is not defined"
     ]
    }
   ],
   "source": []
  },
  {
   "cell_type": "code",
   "execution_count": null,
   "id": "068855e0",
   "metadata": {},
   "outputs": [],
   "source": []
  }
 ],
 "metadata": {
  "kernelspec": {
   "display_name": "Python 3 (ipykernel)",
   "language": "python",
   "name": "python3"
  },
  "language_info": {
   "codemirror_mode": {
    "name": "ipython",
    "version": 3
   },
   "file_extension": ".py",
   "mimetype": "text/x-python",
   "name": "python",
   "nbconvert_exporter": "python",
   "pygments_lexer": "ipython3",
   "version": "3.9.12"
  }
 },
 "nbformat": 4,
 "nbformat_minor": 5
}
