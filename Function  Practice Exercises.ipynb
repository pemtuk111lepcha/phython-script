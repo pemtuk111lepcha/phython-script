{
 "cells": [
  {
   "cell_type": "code",
   "execution_count": 3,
   "id": "363e627d",
   "metadata": {},
   "outputs": [],
   "source": [
    "def myfunction():\n",
    "    print(\"Hello World\")\n"
   ]
  },
  {
   "cell_type": "code",
   "execution_count": 4,
   "id": "f765dac8",
   "metadata": {},
   "outputs": [
    {
     "name": "stdout",
     "output_type": "stream",
     "text": [
      "Hello World\n"
     ]
    }
   ],
   "source": [
    "myfunction()"
   ]
  },
  {
   "cell_type": "code",
   "execution_count": 43,
   "id": "0de3b1e0",
   "metadata": {},
   "outputs": [],
   "source": [
    "def myfunc():\n",
    "    print('My name is {Hello Name}'.format(name))"
   ]
  },
  {
   "cell_type": "code",
   "execution_count": 1,
   "id": "e1a07be0",
   "metadata": {},
   "outputs": [],
   "source": [
    "def myfunc(a):\n",
    "    if a == True:\n",
    "        return 'Inside'\n",
    "    elif a == False:\n",
    "        return 'Outside'"
   ]
  },
  {
   "cell_type": "code",
   "execution_count": 2,
   "id": "1af8f5fb",
   "metadata": {},
   "outputs": [
    {
     "data": {
      "text/plain": [
       "'Outside'"
      ]
     },
     "execution_count": 2,
     "metadata": {},
     "output_type": "execute_result"
    }
   ],
   "source": [
    "myfunc(False)"
   ]
  },
  {
   "cell_type": "code",
   "execution_count": 21,
   "id": "eb5b246a",
   "metadata": {},
   "outputs": [],
   "source": [
    "def myfunc(x,y,z):\n",
    "    if z == True:\n",
    "        return x\n",
    "    else:\n",
    "        if z == False:\n",
    "            return y"
   ]
  },
  {
   "cell_type": "code",
   "execution_count": 6,
   "id": "a56001b0",
   "metadata": {},
   "outputs": [
    {
     "ename": "TypeError",
     "evalue": "myfunc() takes 1 positional argument but 3 were given",
     "output_type": "error",
     "traceback": [
      "\u001b[1;31m---------------------------------------------------------------------------\u001b[0m",
      "\u001b[1;31mTypeError\u001b[0m                                 Traceback (most recent call last)",
      "Cell \u001b[1;32mIn[6], line 1\u001b[0m\n\u001b[1;32m----> 1\u001b[0m \u001b[43mmyfunc\u001b[49m\u001b[43m(\u001b[49m\u001b[38;5;124;43m'\u001b[39;49m\u001b[38;5;124;43mHello\u001b[39;49m\u001b[38;5;124;43m'\u001b[39;49m\u001b[43m,\u001b[49m\u001b[38;5;124;43m'\u001b[39;49m\u001b[38;5;124;43mGoodbye\u001b[39;49m\u001b[38;5;124;43m'\u001b[39;49m\u001b[43m,\u001b[49m\u001b[38;5;28;43;01mFalse\u001b[39;49;00m\u001b[43m)\u001b[49m\n",
      "\u001b[1;31mTypeError\u001b[0m: myfunc() takes 1 positional argument but 3 were given"
     ]
    }
   ],
   "source": [
    "myfunc('Hello','Goodbye',False)"
   ]
  },
  {
   "cell_type": "code",
   "execution_count": 1,
   "id": "8560de9a",
   "metadata": {},
   "outputs": [],
   "source": [
    "def myfunc(a,b):\n",
    "    return a+b"
   ]
  },
  {
   "cell_type": "code",
   "execution_count": 33,
   "id": "2c3a4831",
   "metadata": {},
   "outputs": [
    {
     "data": {
      "text/plain": [
       "35"
      ]
     },
     "execution_count": 33,
     "metadata": {},
     "output_type": "execute_result"
    }
   ],
   "source": [
    "myfunc(25,10)"
   ]
  },
  {
   "cell_type": "code",
   "execution_count": 34,
   "id": "02c858f3",
   "metadata": {},
   "outputs": [],
   "source": [
    "def is_evenly_divisible_by_3(n):\n",
    "    if n%3 == 0:\n",
    "        return True\n",
    "    else:\n",
    "        return False"
   ]
  },
  {
   "cell_type": "code",
   "execution_count": 36,
   "id": "a1771c22",
   "metadata": {},
   "outputs": [
    {
     "data": {
      "text/plain": [
       "False"
      ]
     },
     "execution_count": 36,
     "metadata": {},
     "output_type": "execute_result"
    }
   ],
   "source": [
    " is_evenly_divisible_by_3(13)"
   ]
  },
  {
   "cell_type": "code",
   "execution_count": 37,
   "id": "80dfb521",
   "metadata": {},
   "outputs": [],
   "source": [
    "def is_less(c,d):\n",
    "    if c < d:\n",
    "        return True\n",
    "    else:\n",
    "        return False"
   ]
  },
  {
   "cell_type": "code",
   "execution_count": 40,
   "id": "e290ff49",
   "metadata": {},
   "outputs": [
    {
     "data": {
      "text/plain": [
       "False"
      ]
     },
     "execution_count": 40,
     "metadata": {},
     "output_type": "execute_result"
    }
   ],
   "source": [
    "is_less(9,5)"
   ]
  },
  {
   "cell_type": "code",
   "execution_count": null,
   "id": "3b6df72a",
   "metadata": {},
   "outputs": [],
   "source": []
  }
 ],
 "metadata": {
  "kernelspec": {
   "display_name": "Python 3 (ipykernel)",
   "language": "python",
   "name": "python3"
  },
  "language_info": {
   "codemirror_mode": {
    "name": "ipython",
    "version": 3
   },
   "file_extension": ".py",
   "mimetype": "text/x-python",
   "name": "python",
   "nbconvert_exporter": "python",
   "pygments_lexer": "ipython3",
   "version": "3.10.9"
  }
 },
 "nbformat": 4,
 "nbformat_minor": 5
}
