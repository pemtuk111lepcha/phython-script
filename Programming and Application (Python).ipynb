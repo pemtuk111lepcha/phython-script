{
 "cells": [
  {
   "cell_type": "markdown",
   "id": "b6efd6c8",
   "metadata": {},
   "source": [
    "1) Python program to short words"
   ]
  },
  {
   "cell_type": "code",
   "execution_count": 63,
   "id": "3fc15eaf",
   "metadata": {},
   "outputs": [
    {
     "name": "stdout",
     "output_type": "stream",
     "text": [
      "Your shorted list is: ['apple', 'banana', 'cherry']\n"
     ]
    }
   ],
   "source": [
    "my_list=[\"banana\", \"apple\",\"cherry\"]\n",
    "my_list.sort()\n",
    "print(\"Your shorted list is:\",my_list)\n"
   ]
  },
  {
   "cell_type": "code",
   "execution_count": 74,
   "id": "88b9626a",
   "metadata": {},
   "outputs": [
    {
     "name": "stdout",
     "output_type": "stream",
     "text": [
      "['apple', 'banana', 'cherry']\n"
     ]
    }
   ],
   "source": [
    "def sort_words(word):#function for sort and split words from sentance\n",
    "    words = word.split()\n",
    "    words.sort()\n",
    "    return words\n",
    "\n",
    "word = \"banana apple cherry\"\n",
    "print(sort_words(word))#call the function and give the sentance \n",
    "\n"
   ]
  },
  {
   "cell_type": "markdown",
   "id": "7e69a412",
   "metadata": {},
   "source": [
    "2)Python program to find area of rectangle"
   ]
  },
  {
   "cell_type": "code",
   "execution_count": 75,
   "id": "f7aa8edc",
   "metadata": {},
   "outputs": [
    {
     "name": "stdout",
     "output_type": "stream",
     "text": [
      "Enter length of rectangle:2\n",
      "Enter Width of rectangle:3\n",
      "Area of Rectangle is: 6\n"
     ]
    }
   ],
   "source": [
    "#user input \n",
    "l=int(input(\"Enter length of rectangle:\"))\n",
    "#user input\n",
    "w=int(input(\"Enter Width of rectangle:\")) \n",
    "#formula for orea of rectangle\n",
    "area=l*w  \n",
    "print(\"Area of Rectangle is:\",area)"
   ]
  },
  {
   "cell_type": "markdown",
   "id": "e5a518e9",
   "metadata": {},
   "source": [
    "3)Python program to find area of circle"
   ]
  },
  {
   "cell_type": "code",
   "execution_count": 76,
   "id": "420d6fe0",
   "metadata": {},
   "outputs": [
    {
     "name": "stdout",
     "output_type": "stream",
     "text": [
      "Enter the Radius of Circle:5\n",
      "Area of Circle is : 78.5\n"
     ]
    }
   ],
   "source": [
    "#user input of circle radius\n",
    "r=int(input(\"Enter the Radius of Circle:\"))\n",
    "\n",
    "#pie value which calculated from 22/7\n",
    "p=3.14 \n",
    "\n",
    "#formula for orea of Cricle\n",
    "area=p*r**2 \n",
    "\n",
    "print (\"Area of Circle is :\",area)"
   ]
  },
  {
   "cell_type": "markdown",
   "id": "06845013",
   "metadata": {},
   "source": [
    "4)Python program to cube of first \"n\" natrual numbers"
   ]
  },
  {
   "cell_type": "code",
   "execution_count": 73,
   "id": "31047283",
   "metadata": {},
   "outputs": [
    {
     "name": "stdout",
     "output_type": "stream",
     "text": [
      "Enter the number:5\n",
      "sum of  cube of your number: 225\n"
     ]
    }
   ],
   "source": [
    "#user input\n",
    "#function\n",
    "def cub(n):\n",
    "    return sum (i**3 for i in range (1,1+n))\n",
    "try:#error and exception handling\n",
    "    n=int(input(\"Enter the number:\"))#user input\n",
    "    if n<=0:#input shuld be natrual number\n",
    "        print(\"Error!! Try Agian with Natrul number...\")\n",
    "    else:#\n",
    "        result =cub(n)\n",
    "        print(\"sum of  cube of your number:\",result)\n",
    "except error:\n",
    "    print(\"sorry\")"
   ]
  },
  {
   "cell_type": "code",
   "execution_count": 26,
   "id": "b97f1be8",
   "metadata": {},
   "outputs": [
    {
     "data": {
      "text/plain": [
       "125"
      ]
     },
     "execution_count": 26,
     "metadata": {},
     "output_type": "execute_result"
    }
   ],
   "source": []
  },
  {
   "cell_type": "code",
   "execution_count": null,
   "id": "2c0716a6",
   "metadata": {},
   "outputs": [],
   "source": []
  }
 ],
 "metadata": {
  "kernelspec": {
   "display_name": "Python 3 (ipykernel)",
   "language": "python",
   "name": "python3"
  },
  "language_info": {
   "codemirror_mode": {
    "name": "ipython",
    "version": 3
   },
   "file_extension": ".py",
   "mimetype": "text/x-python",
   "name": "python",
   "nbconvert_exporter": "python",
   "pygments_lexer": "ipython3",
   "version": "3.10.9"
  }
 },
 "nbformat": 4,
 "nbformat_minor": 5
}
