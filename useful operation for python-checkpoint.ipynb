{
 "cells": [
  {
   "cell_type": "code",
   "execution_count": 1,
   "id": "a21f43d6",
   "metadata": {},
   "outputs": [],
   "source": [
    "#range\n"
   ]
  },
  {
   "cell_type": "code",
   "execution_count": 7,
   "id": "a65923d5",
   "metadata": {},
   "outputs": [
    {
     "name": "stdout",
     "output_type": "stream",
     "text": [
      "0\n",
      "1\n",
      "2\n",
      "3\n",
      "4\n",
      "5\n",
      "6\n",
      "7\n",
      "8\n",
      "9\n"
     ]
    }
   ],
   "source": [
    "mylist=[1,2,3,4,5,6,7,8,9,10]\n",
    "for num in range (0,10):\n",
    "    print(num)"
   ]
  },
  {
   "cell_type": "code",
   "execution_count": 9,
   "id": "4c358d1d",
   "metadata": {},
   "outputs": [
    {
     "data": {
      "text/plain": [
       "[0, 1, 2, 3, 4, 5, 6, 7, 8, 9]"
      ]
     },
     "execution_count": 9,
     "metadata": {},
     "output_type": "execute_result"
    }
   ],
   "source": [
    "list(range(0,10))"
   ]
  },
  {
   "cell_type": "code",
   "execution_count": 10,
   "id": "b0a1591f",
   "metadata": {},
   "outputs": [
    {
     "name": "stdout",
     "output_type": "stream",
     "text": [
      "0\n",
      "1\n",
      "2\n",
      "3\n",
      "4\n",
      "5\n",
      "6\n",
      "7\n",
      "8\n",
      "9\n"
     ]
    }
   ],
   "source": [
    "for num in range(10):\n",
    "    print(num)"
   ]
  },
  {
   "cell_type": "code",
   "execution_count": 11,
   "id": "f33d1470",
   "metadata": {},
   "outputs": [
    {
     "name": "stdout",
     "output_type": "stream",
     "text": [
      "3\n",
      "4\n",
      "5\n",
      "6\n",
      "7\n",
      "8\n",
      "9\n"
     ]
    }
   ],
   "source": [
    "for num in range (3,10):\n",
    "    print(num)"
   ]
  },
  {
   "cell_type": "code",
   "execution_count": 12,
   "id": "26ce6f5a",
   "metadata": {},
   "outputs": [
    {
     "name": "stdout",
     "output_type": "stream",
     "text": [
      "0\n",
      "2\n",
      "4\n",
      "6\n",
      "8\n",
      "10\n"
     ]
    }
   ],
   "source": [
    "for num in range(0,11,2):\n",
    "    print(num)"
   ]
  },
  {
   "cell_type": "code",
   "execution_count": 13,
   "id": "68e78cdd",
   "metadata": {},
   "outputs": [],
   "source": [
    "#enumerate"
   ]
  },
  {
   "cell_type": "code",
   "execution_count": 16,
   "id": "9a1f42cf",
   "metadata": {},
   "outputs": [
    {
     "name": "stdout",
     "output_type": "stream",
     "text": [
      "At index 0 the letter is a\n",
      "At index 1 the letter is b\n",
      "At index 2 the letter is c\n",
      "At index 3 the letter is d\n"
     ]
    }
   ],
   "source": [
    "index_count=0\n",
    "for letter in \"abcd\":\n",
    "    print('At index {} the letter is {}'.format(index_count,letter))\n",
    "    index_count +=1"
   ]
  },
  {
   "cell_type": "code",
   "execution_count": 17,
   "id": "6bccdb92",
   "metadata": {},
   "outputs": [
    {
     "name": "stdout",
     "output_type": "stream",
     "text": [
      "0\n",
      "a\n",
      "\n",
      "\n",
      "1\n",
      "b\n",
      "\n",
      "\n",
      "2\n",
      "c\n",
      "\n",
      "\n",
      "3\n",
      "d\n",
      "\n",
      "\n",
      "4\n",
      "e\n",
      "\n",
      "\n"
     ]
    }
   ],
   "source": [
    "word='abcde'\n",
    "for index,letter in enumerate(word):\n",
    "    print(index)\n",
    "    print(letter)\n",
    "    print('\\n')"
   ]
  },
  {
   "cell_type": "code",
   "execution_count": 18,
   "id": "4a8d017d",
   "metadata": {},
   "outputs": [],
   "source": [
    "#zip function "
   ]
  },
  {
   "cell_type": "code",
   "execution_count": 20,
   "id": "bfbfc7e3",
   "metadata": {},
   "outputs": [
    {
     "name": "stdout",
     "output_type": "stream",
     "text": [
      "('a', 1)\n",
      "('b', 2)\n",
      "('c', 3)\n"
     ]
    }
   ],
   "source": [
    "mylist1=['a','b','c']\n",
    "mylist2=[1,2,3]\n",
    "for item in zip(mylist1,mylist2):\n",
    "    print(item)"
   ]
  },
  {
   "cell_type": "code",
   "execution_count": 25,
   "id": "ed480310",
   "metadata": {},
   "outputs": [
    {
     "data": {
      "text/plain": [
       "[('a', 1), ('b', 2), ('c', 3)]"
      ]
     },
     "execution_count": 25,
     "metadata": {},
     "output_type": "execute_result"
    }
   ],
   "source": [
    "mylist1=['a','b','c']\n",
    "mylist2=[1,2,3,4,5]\n",
    "list (zip (mylist1,mylist2))"
   ]
  },
  {
   "cell_type": "code",
   "execution_count": 42,
   "id": "44ac2580",
   "metadata": {},
   "outputs": [
    {
     "name": "stdout",
     "output_type": "stream",
     "text": [
      "('a', 1, 11)\n",
      "('b', 2, 12)\n",
      "('c', 3, 13)\n"
     ]
    }
   ],
   "source": [
    "mylist1=['a','b','c']\n",
    "mylist2=[1,2,3,4,5]\n",
    "mylist3=[11,12,13,14]\n",
    "for item in zip (mylist1,mylist2, mylist3):\n",
    "    print(item)"
   ]
  },
  {
   "cell_type": "code",
   "execution_count": 47,
   "id": "968804e3",
   "metadata": {},
   "outputs": [
    {
     "name": "stdout",
     "output_type": "stream",
     "text": [
      "a\n",
      "1\n",
      "11\n",
      "b\n",
      "2\n",
      "12\n",
      "c\n",
      "3\n",
      "13\n"
     ]
    }
   ],
   "source": [
    "mylist1=['a','b','c']\n",
    "mylist2=[1,2,3,4,5]\n",
    "mylist3=[11,12,13,14]\n",
    "for l1,l2,l3 in zip (mylist1,mylist2,mylist3):\n",
    "    print(l1)\n",
    "    print(l2)\n",
    "    print(l3)\n",
    "    "
   ]
  },
  {
   "cell_type": "code",
   "execution_count": 49,
   "id": "45d97515",
   "metadata": {},
   "outputs": [],
   "source": [
    "#in keyword"
   ]
  },
  {
   "cell_type": "code",
   "execution_count": 50,
   "id": "4d8804ea",
   "metadata": {},
   "outputs": [
    {
     "data": {
      "text/plain": [
       "False"
      ]
     },
     "execution_count": 50,
     "metadata": {},
     "output_type": "execute_result"
    }
   ],
   "source": [
    "'x' in [1,2,3]"
   ]
  },
  {
   "cell_type": "code",
   "execution_count": 51,
   "id": "ad6d7703",
   "metadata": {},
   "outputs": [
    {
     "data": {
      "text/plain": [
       "True"
      ]
     },
     "execution_count": 51,
     "metadata": {},
     "output_type": "execute_result"
    }
   ],
   "source": [
    "'x' in['x','y','z']"
   ]
  },
  {
   "cell_type": "code",
   "execution_count": 52,
   "id": "b04566e8",
   "metadata": {},
   "outputs": [
    {
     "data": {
      "text/plain": [
       "True"
      ]
     },
     "execution_count": 52,
     "metadata": {},
     "output_type": "execute_result"
    }
   ],
   "source": [
    "'mykey'in {'mykey':345}"
   ]
  },
  {
   "cell_type": "code",
   "execution_count": 53,
   "id": "57c971a6",
   "metadata": {},
   "outputs": [],
   "source": [
    "d = {'mykey':345}"
   ]
  },
  {
   "cell_type": "code",
   "execution_count": 56,
   "id": "8662f5c8",
   "metadata": {},
   "outputs": [
    {
     "data": {
      "text/plain": [
       "True"
      ]
     },
     "execution_count": 56,
     "metadata": {},
     "output_type": "execute_result"
    }
   ],
   "source": [
    "345 in d.values()"
   ]
  },
  {
   "cell_type": "code",
   "execution_count": 57,
   "id": "edb94b5e",
   "metadata": {},
   "outputs": [],
   "source": [
    "#random library"
   ]
  },
  {
   "cell_type": "code",
   "execution_count": 58,
   "id": "daf1ee21",
   "metadata": {},
   "outputs": [],
   "source": [
    "from random import shuffle\n",
    "mylist=[1,2,3,4,5,6,7,8]\n",
    "shuffle(mylist)\n",
    "rd1=mylist"
   ]
  },
  {
   "cell_type": "code",
   "execution_count": 59,
   "id": "5227dac1",
   "metadata": {},
   "outputs": [
    {
     "data": {
      "text/plain": [
       "[2, 3, 6, 8, 5, 7, 4, 1]"
      ]
     },
     "execution_count": 59,
     "metadata": {},
     "output_type": "execute_result"
    }
   ],
   "source": [
    "rd1"
   ]
  },
  {
   "cell_type": "code",
   "execution_count": 32,
   "id": "58d88305",
   "metadata": {},
   "outputs": [
    {
     "data": {
      "text/plain": [
       "19"
      ]
     },
     "execution_count": 32,
     "metadata": {},
     "output_type": "execute_result"
    }
   ],
   "source": [
    "from random import randint #randit integer\n",
    "randint(1,100)"
   ]
  },
  {
   "cell_type": "code",
   "execution_count": 34,
   "id": "357451c5",
   "metadata": {},
   "outputs": [],
   "source": [
    "my_num =randint(0,100)"
   ]
  },
  {
   "cell_type": "code",
   "execution_count": 35,
   "id": "a0168735",
   "metadata": {},
   "outputs": [
    {
     "data": {
      "text/plain": [
       "39"
      ]
     },
     "execution_count": 35,
     "metadata": {},
     "output_type": "execute_result"
    }
   ],
   "source": [
    "my_num"
   ]
  },
  {
   "cell_type": "code",
   "execution_count": 36,
   "id": "f667eb21",
   "metadata": {},
   "outputs": [],
   "source": [
    "#input"
   ]
  },
  {
   "cell_type": "code",
   "execution_count": 37,
   "id": "65fe7ff2",
   "metadata": {},
   "outputs": [
    {
     "name": "stdout",
     "output_type": "stream",
     "text": [
      "enter number here23\n"
     ]
    },
    {
     "data": {
      "text/plain": [
       "'23'"
      ]
     },
     "execution_count": 37,
     "metadata": {},
     "output_type": "execute_result"
    }
   ],
   "source": [
    "input(\"enter number here\")"
   ]
  },
  {
   "cell_type": "code",
   "execution_count": 38,
   "id": "9bc2bc54",
   "metadata": {},
   "outputs": [
    {
     "name": "stdout",
     "output_type": "stream",
     "text": [
      "enter your fevourit no70\n"
     ]
    }
   ],
   "source": [
    "result=int(input('enter your fevourit no'))"
   ]
  },
  {
   "cell_type": "code",
   "execution_count": 39,
   "id": "daf344c9",
   "metadata": {},
   "outputs": [
    {
     "data": {
      "text/plain": [
       "70"
      ]
     },
     "execution_count": 39,
     "metadata": {},
     "output_type": "execute_result"
    }
   ],
   "source": [
    "result"
   ]
  },
  {
   "cell_type": "code",
   "execution_count": 40,
   "id": "812fb13c",
   "metadata": {},
   "outputs": [
    {
     "data": {
      "text/plain": [
       "int"
      ]
     },
     "execution_count": 40,
     "metadata": {},
     "output_type": "execute_result"
    }
   ],
   "source": [
    "type(result)"
   ]
  },
  {
   "cell_type": "code",
   "execution_count": 60,
   "id": "6591c833",
   "metadata": {},
   "outputs": [],
   "source": [
    "# list comphrehension in pythone"
   ]
  },
  {
   "cell_type": "code",
   "execution_count": 2,
   "id": "b4ad6f8c",
   "metadata": {},
   "outputs": [],
   "source": [
    "mystring='hello'\n",
    "mylist=[]\n",
    "for letter in mystring:\n",
    "    mylist.append(letter)"
   ]
  },
  {
   "cell_type": "code",
   "execution_count": 3,
   "id": "c7130529",
   "metadata": {},
   "outputs": [
    {
     "data": {
      "text/plain": [
       "['h', 'e', 'l', 'l', 'o']"
      ]
     },
     "execution_count": 3,
     "metadata": {},
     "output_type": "execute_result"
    }
   ],
   "source": [
    "mylist"
   ]
  },
  {
   "cell_type": "code",
   "execution_count": 5,
   "id": "51b70b80",
   "metadata": {},
   "outputs": [],
   "source": [
    "mystring='hello'\n",
    "mylist=[letter for letter in mystring]"
   ]
  },
  {
   "cell_type": "code",
   "execution_count": 6,
   "id": "9fe50eae",
   "metadata": {},
   "outputs": [
    {
     "data": {
      "text/plain": [
       "['h', 'e', 'l', 'l', 'o']"
      ]
     },
     "execution_count": 6,
     "metadata": {},
     "output_type": "execute_result"
    }
   ],
   "source": [
    "mylist"
   ]
  },
  {
   "cell_type": "code",
   "execution_count": 7,
   "id": "42b91395",
   "metadata": {},
   "outputs": [],
   "source": [
    "word='hello'\n",
    "mylist= [x for x in word]"
   ]
  },
  {
   "cell_type": "code",
   "execution_count": 8,
   "id": "f42e4ba2",
   "metadata": {},
   "outputs": [
    {
     "data": {
      "text/plain": [
       "['h', 'e', 'l', 'l', 'o']"
      ]
     },
     "execution_count": 8,
     "metadata": {},
     "output_type": "execute_result"
    }
   ],
   "source": [
    "mylist"
   ]
  },
  {
   "cell_type": "code",
   "execution_count": 9,
   "id": "37919182",
   "metadata": {},
   "outputs": [],
   "source": [
    "mylist=[x for x in 'april and any']"
   ]
  },
  {
   "cell_type": "code",
   "execution_count": 10,
   "id": "f79b28f7",
   "metadata": {},
   "outputs": [
    {
     "data": {
      "text/plain": [
       "['a', 'p', 'r', 'i', 'l', ' ', 'a', 'n', 'd', ' ', 'a', 'n', 'y']"
      ]
     },
     "execution_count": 10,
     "metadata": {},
     "output_type": "execute_result"
    }
   ],
   "source": [
    "mylist"
   ]
  },
  {
   "cell_type": "code",
   "execution_count": 11,
   "id": "8818e734",
   "metadata": {},
   "outputs": [],
   "source": [
    "mynum=[num**2 for num in range(0,11)]"
   ]
  },
  {
   "cell_type": "code",
   "execution_count": 12,
   "id": "bbbc3ee2",
   "metadata": {},
   "outputs": [
    {
     "data": {
      "text/plain": [
       "[0, 1, 4, 9, 16, 25, 36, 49, 64, 81, 100]"
      ]
     },
     "execution_count": 12,
     "metadata": {},
     "output_type": "execute_result"
    }
   ],
   "source": [
    "mynum"
   ]
  },
  {
   "cell_type": "code",
   "execution_count": 14,
   "id": "87acd074",
   "metadata": {},
   "outputs": [],
   "source": [
    "myeven=[x**2 for x in range (0,11)if x%2==0]"
   ]
  },
  {
   "cell_type": "code",
   "execution_count": 15,
   "id": "40ecf804",
   "metadata": {},
   "outputs": [
    {
     "data": {
      "text/plain": [
       "[0, 4, 16, 36, 64, 100]"
      ]
     },
     "execution_count": 15,
     "metadata": {},
     "output_type": "execute_result"
    }
   ],
   "source": [
    "myeven"
   ]
  },
  {
   "cell_type": "code",
   "execution_count": 17,
   "id": "7b1cf0e8",
   "metadata": {},
   "outputs": [],
   "source": [
    "celcius = [32,13,54,23,1,2,]\n",
    "fahrenheit = [((9/5)*temp+32)for temp in celcius]"
   ]
  },
  {
   "cell_type": "code",
   "execution_count": 18,
   "id": "4ba20f93",
   "metadata": {},
   "outputs": [
    {
     "data": {
      "text/plain": [
       "[89.6, 55.400000000000006, 129.2, 73.4, 33.8, 35.6]"
      ]
     },
     "execution_count": 18,
     "metadata": {},
     "output_type": "execute_result"
    }
   ],
   "source": [
    "fahrenheit"
   ]
  },
  {
   "cell_type": "code",
   "execution_count": 24,
   "id": "b59a338d",
   "metadata": {},
   "outputs": [],
   "source": [
    "result=[x if x%2==0 else 'ODD' for x in range(0,10)]"
   ]
  },
  {
   "cell_type": "code",
   "execution_count": 25,
   "id": "bd35ec47",
   "metadata": {},
   "outputs": [
    {
     "data": {
      "text/plain": [
       "[0, 'ODD', 2, 'ODD', 4, 'ODD', 6, 'ODD', 8, 'ODD']"
      ]
     },
     "execution_count": 25,
     "metadata": {},
     "output_type": "execute_result"
    }
   ],
   "source": [
    "result"
   ]
  },
  {
   "cell_type": "code",
   "execution_count": 26,
   "id": "ac2a83a1",
   "metadata": {},
   "outputs": [],
   "source": [
    "#nested loop"
   ]
  },
  {
   "cell_type": "code",
   "execution_count": 28,
   "id": "208d8e5f",
   "metadata": {},
   "outputs": [],
   "source": [
    "mylist=[]\n",
    "for x in [2,4,6]:\n",
    "    for y in [1,3,5]:\n",
    "        mylist.append(x*y)"
   ]
  },
  {
   "cell_type": "code",
   "execution_count": 30,
   "id": "0479af48",
   "metadata": {},
   "outputs": [
    {
     "data": {
      "text/plain": [
       "[2, 6, 10, 4, 12, 20, 6, 18, 30]"
      ]
     },
     "execution_count": 30,
     "metadata": {},
     "output_type": "execute_result"
    }
   ],
   "source": [
    "mylist"
   ]
  },
  {
   "cell_type": "code",
   "execution_count": 32,
   "id": "27ec8bc3",
   "metadata": {},
   "outputs": [],
   "source": [
    "mynest=[x*y for x in [2,4,6,]for y in [1,3,5]]"
   ]
  },
  {
   "cell_type": "code",
   "execution_count": 33,
   "id": "e7031c3f",
   "metadata": {},
   "outputs": [
    {
     "data": {
      "text/plain": [
       "[2, 6, 10, 4, 12, 20, 6, 18, 30]"
      ]
     },
     "execution_count": 33,
     "metadata": {},
     "output_type": "execute_result"
    }
   ],
   "source": [
    "mynest"
   ]
  },
  {
   "cell_type": "code",
   "execution_count": null,
   "id": "904c02ec",
   "metadata": {},
   "outputs": [],
   "source": []
  }
 ],
 "metadata": {
  "kernelspec": {
   "display_name": "Python 3 (ipykernel)",
   "language": "python",
   "name": "python3"
  },
  "language_info": {
   "codemirror_mode": {
    "name": "ipython",
    "version": 3
   },
   "file_extension": ".py",
   "mimetype": "text/x-python",
   "name": "python",
   "nbconvert_exporter": "python",
   "pygments_lexer": "ipython3",
   "version": "3.10.9"
  }
 },
 "nbformat": 4,
 "nbformat_minor": 5
}
