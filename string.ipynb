{
 "cells": [
  {
   "cell_type": "code",
   "execution_count": 1,
   "id": "e39fc18b",
   "metadata": {},
   "outputs": [
    {
     "data": {
      "text/plain": [
       "'anthony'"
      ]
     },
     "execution_count": 1,
     "metadata": {},
     "output_type": "execute_result"
    }
   ],
   "source": [
    "name=\"anthony\"\n",
    "name"
   ]
  },
  {
   "cell_type": "code",
   "execution_count": null,
   "id": "0e26cb43",
   "metadata": {},
   "outputs": [],
   "source": []
  },
  {
   "cell_type": "code",
   "execution_count": 5,
   "id": "e63ee606",
   "metadata": {},
   "outputs": [
    {
     "data": {
      "text/plain": [
       "'nthony'"
      ]
     },
     "execution_count": 5,
     "metadata": {},
     "output_type": "execute_result"
    }
   ],
   "source": [
    "last_letters =name[1:]\n",
    "last_letters"
   ]
  },
  {
   "cell_type": "code",
   "execution_count": 6,
   "id": "a13e235f",
   "metadata": {},
   "outputs": [
    {
     "data": {
      "text/plain": [
       "'pnthony'"
      ]
     },
     "execution_count": 6,
     "metadata": {},
     "output_type": "execute_result"
    }
   ],
   "source": [
    "\"p\"+last_letter"
   ]
  },
  {
   "cell_type": "code",
   "execution_count": 7,
   "id": "e565e247",
   "metadata": {},
   "outputs": [
    {
     "data": {
      "text/plain": [
       "'hello world'"
      ]
     },
     "execution_count": 7,
     "metadata": {},
     "output_type": "execute_result"
    }
   ],
   "source": [
    "x=\"hello world\"\n",
    "x"
   ]
  },
  {
   "cell_type": "code",
   "execution_count": 14,
   "id": "3277f752",
   "metadata": {},
   "outputs": [
    {
     "data": {
      "text/plain": [
       "'hello worldasd its beautiful day its beautiful day'"
      ]
     },
     "execution_count": 14,
     "metadata": {},
     "output_type": "execute_result"
    }
   ],
   "source": [
    "x = x + \" its beautiful day\"\n",
    "x"
   ]
  },
  {
   "cell_type": "code",
   "execution_count": 17,
   "id": "ed703761",
   "metadata": {
    "scrolled": true
   },
   "outputs": [
    {
     "data": {
      "text/plain": [
       "'4020'"
      ]
     },
     "execution_count": 17,
     "metadata": {},
     "output_type": "execute_result"
    }
   ],
   "source": [
    "a= \"40\" + \"20\"\n",
    "a\n"
   ]
  },
  {
   "cell_type": "markdown",
   "id": "8eb46346",
   "metadata": {},
   "source": [
    "buil in methods"
   ]
  },
  {
   "cell_type": "code",
   "execution_count": 18,
   "id": "1cd7e9e3",
   "metadata": {},
   "outputs": [],
   "source": [
    "x = \"hello world\""
   ]
  },
  {
   "cell_type": "code",
   "execution_count": 19,
   "id": "9de564cb",
   "metadata": {},
   "outputs": [
    {
     "data": {
      "text/plain": [
       "'HELLO WORLD'"
      ]
     },
     "execution_count": 19,
     "metadata": {},
     "output_type": "execute_result"
    }
   ],
   "source": [
    "x.upper()"
   ]
  },
  {
   "cell_type": "code",
   "execution_count": 20,
   "id": "633ab7d1",
   "metadata": {},
   "outputs": [
    {
     "data": {
      "text/plain": [
       "'hello world'"
      ]
     },
     "execution_count": 20,
     "metadata": {},
     "output_type": "execute_result"
    }
   ],
   "source": [
    "x.lower()"
   ]
  },
  {
   "cell_type": "code",
   "execution_count": 26,
   "id": "1f17d462",
   "metadata": {},
   "outputs": [
    {
     "data": {
      "text/plain": [
       "'hello world'"
      ]
     },
     "execution_count": 26,
     "metadata": {},
     "output_type": "execute_result"
    }
   ],
   "source": [
    "x"
   ]
  },
  {
   "cell_type": "code",
   "execution_count": 28,
   "id": "a980fced",
   "metadata": {},
   "outputs": [
    {
     "data": {
      "text/plain": [
       "['hello', 'world']"
      ]
     },
     "execution_count": 28,
     "metadata": {},
     "output_type": "execute_result"
    }
   ],
   "source": [
    "x.split()"
   ]
  },
  {
   "cell_type": "code",
   "execution_count": 29,
   "id": "264e1f82",
   "metadata": {},
   "outputs": [
    {
     "data": {
      "text/plain": [
       "['hell', ' w', 'rld']"
      ]
     },
     "execution_count": 29,
     "metadata": {},
     "output_type": "execute_result"
    }
   ],
   "source": [
    "x.split('o')"
   ]
  },
  {
   "cell_type": "markdown",
   "id": "744d228c",
   "metadata": {},
   "source": [
    "format method"
   ]
  },
  {
   "cell_type": "code",
   "execution_count": 30,
   "id": "bc990ac5",
   "metadata": {},
   "outputs": [],
   "source": [
    "#string her{}.format{somthing},{somting1},{somthing2}"
   ]
  },
  {
   "cell_type": "code",
   "execution_count": 36,
   "id": "29819bf4",
   "metadata": {},
   "outputs": [
    {
     "name": "stdout",
     "output_type": "stream",
     "text": [
      "i am student of Medhavi Skill University\n"
     ]
    }
   ],
   "source": [
    "print(\"i am student of {}\".format ('Medhavi Skill University'))"
   ]
  },
  {
   "cell_type": "code",
   "execution_count": 39,
   "id": "19345323",
   "metadata": {},
   "outputs": [
    {
     "name": "stdout",
     "output_type": "stream",
     "text": [
      "the quick,brown,fox\n"
     ]
    }
   ],
   "source": [
    "print('the {1},{2},{0}'.format ('fox','quick','brown'))"
   ]
  },
  {
   "cell_type": "code",
   "execution_count": 40,
   "id": "89931f30",
   "metadata": {},
   "outputs": [
    {
     "name": "stdout",
     "output_type": "stream",
     "text": [
      "The quck brown fox \n"
     ]
    }
   ],
   "source": [
    "print('The {q} {b} {f} '.format (f='fox',b='brown',q='quck'))"
   ]
  },
  {
   "cell_type": "code",
   "execution_count": 43,
   "id": "6b044df1",
   "metadata": {},
   "outputs": [
    {
     "data": {
      "text/plain": [
       "'the'"
      ]
     },
     "execution_count": 43,
     "metadata": {},
     "output_type": "execute_result"
    }
   ],
   "source": [
    "x='the'\n",
    "x"
   ]
  },
  {
   "cell_type": "code",
   "execution_count": 45,
   "id": "930a4173",
   "metadata": {},
   "outputs": [
    {
     "data": {
      "text/plain": [
       "'the quck brown fox '"
      ]
     },
     "execution_count": 45,
     "metadata": {},
     "output_type": "execute_result"
    }
   ],
   "source": [
    "x + (' {q} {b} {f} '.format (f='fox',b='brown',q='quck'))"
   ]
  },
  {
   "cell_type": "code",
   "execution_count": 46,
   "id": "8796059a",
   "metadata": {},
   "outputs": [
    {
     "ename": "SyntaxError",
     "evalue": "invalid syntax (1771381354.py, line 1)",
     "output_type": "error",
     "traceback": [
      "\u001b[1;36m  Input \u001b[1;32mIn [46]\u001b[1;36m\u001b[0m\n\u001b[1;33m    the quick brown fox jumps over th lazy dog\u001b[0m\n\u001b[1;37m        ^\u001b[0m\n\u001b[1;31mSyntaxError\u001b[0m\u001b[1;31m:\u001b[0m invalid syntax\n"
     ]
    }
   ],
   "source": [
    "the quick brown fox jumps over th lazy dog"
   ]
  },
  {
   "cell_type": "markdown",
   "id": "26734615",
   "metadata": {},
   "source": [
    " float formating\n"
   ]
  },
  {
   "cell_type": "code",
   "execution_count": 47,
   "id": "d9742492",
   "metadata": {},
   "outputs": [],
   "source": [
    "result=100/77"
   ]
  },
  {
   "cell_type": "code",
   "execution_count": 48,
   "id": "80f61eb0",
   "metadata": {},
   "outputs": [
    {
     "data": {
      "text/plain": [
       "1.2987012987012987"
      ]
     },
     "execution_count": 48,
     "metadata": {},
     "output_type": "execute_result"
    }
   ],
   "source": [
    "result"
   ]
  },
  {
   "cell_type": "code",
   "execution_count": 59,
   "id": "21fb5c29",
   "metadata": {},
   "outputs": [
    {
     "name": "stdout",
     "output_type": "stream",
     "text": [
      "the result is 1.299\n"
     ]
    }
   ],
   "source": [
    "print('the result is {r:1.3f}'.format(r=result))"
   ]
  },
  {
   "cell_type": "code",
   "execution_count": 60,
   "id": "0dd7d1bd",
   "metadata": {},
   "outputs": [
    {
     "name": "stdout",
     "output_type": "stream",
     "text": [
      "the result is 6.5e+04\n"
     ]
    }
   ],
   "source": [
    "a=1000\n",
    "b=5000\n",
    "c=77\n",
    "res=(a*b)/c\n",
    "print('the result is {r:1.2}'.format(r=res))"
   ]
  },
  {
   "cell_type": "markdown",
   "id": "07af0bf4",
   "metadata": {},
   "source": [
    "name=\"anthony\"\n"
   ]
  },
  {
   "cell_type": "code",
   "execution_count": 61,
   "id": "79eef217",
   "metadata": {},
   "outputs": [
    {
     "data": {
      "text/plain": [
       "'python'"
      ]
     },
     "execution_count": 61,
     "metadata": {},
     "output_type": "execute_result"
    }
   ],
   "source": [
    "word=\"python\"\n",
    "word\n"
   ]
  },
  {
   "cell_type": "code",
   "execution_count": 62,
   "id": "228eadca",
   "metadata": {},
   "outputs": [
    {
     "data": {
      "text/plain": [
       "'ython'"
      ]
     },
     "execution_count": 62,
     "metadata": {},
     "output_type": "execute_result"
    }
   ],
   "source": [
    "last_letters =word[1:]\n",
    "last_letters"
   ]
  },
  {
   "cell_type": "code",
   "execution_count": 64,
   "id": "94b39b52",
   "metadata": {},
   "outputs": [
    {
     "data": {
      "text/plain": [
       "'cython'"
      ]
     },
     "execution_count": 64,
     "metadata": {},
     "output_type": "execute_result"
    }
   ],
   "source": [
    "\"c\"+last_letters"
   ]
  },
  {
   "cell_type": "code",
   "execution_count": 70,
   "id": "098f25d9",
   "metadata": {},
   "outputs": [],
   "source": [
    "s1= \" \n",
    "hello \"  \n",
    "s2= \" i am a \" \n",
    "s3= \"python programmer \"\n",
    "s=s1+s2+s3"
   ]
  },
  {
   "cell_type": "code",
   "execution_count": 67,
   "id": "17ab150b",
   "metadata": {},
   "outputs": [
    {
     "data": {
      "text/plain": [
       "'helloi am apython programmer'"
      ]
     },
     "execution_count": 67,
     "metadata": {},
     "output_type": "execute_result"
    }
   ],
   "source": [
    "s"
   ]
  },
  {
   "cell_type": "code",
   "execution_count": 71,
   "id": "1b316645",
   "metadata": {},
   "outputs": [
    {
     "data": {
      "text/plain": [
       "'THE QUICK BROWN FOX'"
      ]
     },
     "execution_count": 71,
     "metadata": {},
     "output_type": "execute_result"
    }
   ],
   "source": [
    "x=\"the quick brown fox\"\n",
    "x.upper()"
   ]
  },
  {
   "cell_type": "code",
   "execution_count": 3,
   "id": "009110df",
   "metadata": {},
   "outputs": [
    {
     "name": "stdout",
     "output_type": "stream",
     "text": [
      "the pi is 3.1422\n"
     ]
    }
   ],
   "source": [
    "pi=3.14215926535\n",
    "print('the pi is {p:1.4f}'.format(p=pi))"
   ]
  },
  {
   "cell_type": "code",
   "execution_count": null,
   "id": "4e713928",
   "metadata": {},
   "outputs": [],
   "source": [
    "name=\"jhon\"\n",
    "print(f'my name )"
   ]
  },
  {
   "cell_type": "code",
   "execution_count": 5,
   "id": "20ac8d16",
   "metadata": {},
   "outputs": [
    {
     "ename": "SyntaxError",
     "evalue": "invalid syntax (2107016492.py, line 3)",
     "output_type": "error",
     "traceback": [
      "\u001b[1;36m  Input \u001b[1;32mIn [5]\u001b[1;36m\u001b[0m\n\u001b[1;33m    area of rectangle =hight*width\u001b[0m\n\u001b[1;37m         ^\u001b[0m\n\u001b[1;31mSyntaxError\u001b[0m\u001b[1;31m:\u001b[0m invalid syntax\n"
     ]
    }
   ],
   "source": [
    "hight = float (input (\"enter the hight\"))\n",
    "width = float (input (\"enter the width\"))\n",
    "area of rectangle =hight*width\n",
    "print(\"the area of rectangle is\", area of rectangle)"
   ]
  },
  {
   "cell_type": "code",
   "execution_count": 6,
   "id": "9adac9ac",
   "metadata": {},
   "outputs": [
    {
     "name": "stdout",
     "output_type": "stream",
     "text": [
      "enter the hight34\n",
      "enter the width34\n",
      "the area of rectangle is 1156.0\n"
     ]
    }
   ],
   "source": [
    "hight = float (input (\"enter the hight\"))\n",
    "width = float (input (\"enter the width\"))\n",
    "area =hight*width\n",
    "print(\"the area of rectangle is\", area)"
   ]
  },
  {
   "cell_type": "code",
   "execution_count": 7,
   "id": "6d11fbff",
   "metadata": {},
   "outputs": [
    {
     "name": "stdout",
     "output_type": "stream",
     "text": [
      "enter the radius23\n",
      "enter the hight12\n"
     ]
    },
    {
     "ename": "NameError",
     "evalue": "name 'raduis' is not defined",
     "output_type": "error",
     "traceback": [
      "\u001b[1;31m---------------------------------------------------------------------------\u001b[0m",
      "\u001b[1;31mNameError\u001b[0m                                 Traceback (most recent call last)",
      "Input \u001b[1;32mIn [7]\u001b[0m, in \u001b[0;36m<cell line: 4>\u001b[1;34m()\u001b[0m\n\u001b[0;32m      2\u001b[0m radius\u001b[38;5;241m=\u001b[39m\u001b[38;5;28mfloat\u001b[39m(\u001b[38;5;28minput\u001b[39m(\u001b[38;5;124m\"\u001b[39m\u001b[38;5;124menter the radius\u001b[39m\u001b[38;5;124m\"\u001b[39m))\n\u001b[0;32m      3\u001b[0m hight\u001b[38;5;241m=\u001b[39m\u001b[38;5;28mfloat\u001b[39m(\u001b[38;5;28minput\u001b[39m(\u001b[38;5;124m\"\u001b[39m\u001b[38;5;124menter the hight\u001b[39m\u001b[38;5;124m\"\u001b[39m))\n\u001b[1;32m----> 4\u001b[0m volume\u001b[38;5;241m=\u001b[39mpi\u001b[38;5;241m*\u001b[39m\u001b[43mraduis\u001b[49m\u001b[38;5;241m*\u001b[39mraduis\u001b[38;5;241m*\u001b[39mhight\n\u001b[0;32m      5\u001b[0m \u001b[38;5;28mprint\u001b[39m(\u001b[38;5;124m\"\u001b[39m\u001b[38;5;124mthe volume of cylinder is\u001b[39m\u001b[38;5;124m\"\u001b[39m, volume)\n",
      "\u001b[1;31mNameError\u001b[0m: name 'raduis' is not defined"
     ]
    }
   ],
   "source": [
    "pi=3.14\n",
    "radius=float(input(\"enter the radius\"))\n",
    "hight=float(input(\"enter the hight\"))\n",
    "volume=pi*raduis*raduis*hight\n",
    "print(\"the volume of cylinder is\", volume)"
   ]
  },
  {
   "cell_type": "code",
   "execution_count": null,
   "id": "1b271a9a",
   "metadata": {},
   "outputs": [],
   "source": [
    "pi=3.14\n",
    "radius=float(input(\"enter the radius\"))\n",
    "hight=float(input(\"enter the hight\"))\n",
    "volume=pi*raduis*raduis*hight\n",
    "print(\"the volume of cylinder is\", volume)"
   ]
  },
  {
   "cell_type": "code",
   "execution_count": null,
   "id": "35a05277",
   "metadata": {},
   "outputs": [],
   "source": []
  }
 ],
 "metadata": {
  "kernelspec": {
   "display_name": "Python 3 (ipykernel)",
   "language": "python",
   "name": "python3"
  },
  "language_info": {
   "codemirror_mode": {
    "name": "ipython",
    "version": 3
   },
   "file_extension": ".py",
   "mimetype": "text/x-python",
   "name": "python",
   "nbconvert_exporter": "python",
   "pygments_lexer": "ipython3",
   "version": "3.9.12"
  }
 },
 "nbformat": 4,
 "nbformat_minor": 5
}
