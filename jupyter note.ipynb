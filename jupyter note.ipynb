{
 "cells": [
  {
   "cell_type": "code",
   "execution_count": 1,
   "id": "a9f20951",
   "metadata": {},
   "outputs": [
    {
     "data": {
      "text/plain": [
       "21542"
      ]
     },
     "execution_count": 1,
     "metadata": {},
     "output_type": "execute_result"
    }
   ],
   "source": [
    "21221+321"
   ]
  },
  {
   "cell_type": "code",
   "execution_count": 2,
   "id": "fb8f5709",
   "metadata": {},
   "outputs": [
    {
     "data": {
      "text/plain": [
       "2.3333333333333335"
      ]
     },
     "execution_count": 2,
     "metadata": {},
     "output_type": "execute_result"
    }
   ],
   "source": [
    "7/3"
   ]
  },
  {
   "cell_type": "code",
   "execution_count": 3,
   "id": "3379ce46",
   "metadata": {},
   "outputs": [
    {
     "data": {
      "text/plain": [
       "2"
      ]
     },
     "execution_count": 3,
     "metadata": {},
     "output_type": "execute_result"
    }
   ],
   "source": [
    "7//3"
   ]
  },
  {
   "cell_type": "code",
   "execution_count": 4,
   "id": "82d6c14e",
   "metadata": {},
   "outputs": [],
   "source": [
    "#this is comment"
   ]
  },
  {
   "cell_type": "code",
   "execution_count": 5,
   "id": "9266160b",
   "metadata": {},
   "outputs": [
    {
     "ename": "SyntaxError",
     "evalue": "invalid syntax (4210760407.py, line 1)",
     "output_type": "error",
     "traceback": [
      "\u001b[1;36m  Input \u001b[1;32mIn [5]\u001b[1;36m\u001b[0m\n\u001b[1;33m    module or mod\"%\"\"\u001b[0m\n\u001b[1;37m                 ^\u001b[0m\n\u001b[1;31mSyntaxError\u001b[0m\u001b[1;31m:\u001b[0m invalid syntax\n"
     ]
    }
   ],
   "source": [
    "module or mod\"%\"\""
   ]
  },
  {
   "cell_type": "code",
   "execution_count": 3,
   "id": "64105f15",
   "metadata": {},
   "outputs": [
    {
     "name": "stdout",
     "output_type": "stream",
     "text": [
      "-2\n",
      "6\n",
      "8\n",
      "0\n"
     ]
    }
   ],
   "source": [
    "a=2\n",
    "b=4\n",
    "add= a-b\n",
    "sub= a+b\n",
    "multi= a*b\n",
    "floor= a//b\n",
    "print(add)\n",
    "print(sub)\n",
    "print(multi)\n",
    "print(floor)"
   ]
  },
  {
   "cell_type": "code",
   "execution_count": 2,
   "id": "24821e3a",
   "metadata": {},
   "outputs": [
    {
     "name": "stdout",
     "output_type": "stream",
     "text": [
      "10.0\n"
     ]
    }
   ],
   "source": [
    "my_income= 100\n",
    "text_rate= 0.1\n",
    "my_final_text = my_income * text_rate\n",
    "print(my_final_text)"
   ]
  },
  {
   "cell_type": "code",
   "execution_count": 4,
   "id": "a0a9a916",
   "metadata": {},
   "outputs": [
    {
     "name": "stdout",
     "output_type": "stream",
     "text": [
      "42\n"
     ]
    }
   ],
   "source": [
    "integer_var=42\n",
    "print(integer_var)"
   ]
  },
  {
   "cell_type": "markdown",
   "id": "d231c89a",
   "metadata": {},
   "source": [
    "sterings"
   ]
  },
  {
   "cell_type": "code",
   "execution_count": 1,
   "id": "197d7ccc",
   "metadata": {},
   "outputs": [
    {
     "data": {
      "text/plain": [
       "'hello'"
      ]
     },
     "execution_count": 1,
     "metadata": {},
     "output_type": "execute_result"
    }
   ],
   "source": [
    "'hello'"
   ]
  },
  {
   "cell_type": "code",
   "execution_count": 2,
   "id": "ebdeb5a7",
   "metadata": {},
   "outputs": [
    {
     "data": {
      "text/plain": [
       "'hello'"
      ]
     },
     "execution_count": 2,
     "metadata": {},
     "output_type": "execute_result"
    }
   ],
   "source": [
    "\"hello\""
   ]
  },
  {
   "cell_type": "code",
   "execution_count": 3,
   "id": "d3d97d9c",
   "metadata": {},
   "outputs": [
    {
     "ename": "SyntaxError",
     "evalue": "invalid syntax (3957455388.py, line 1)",
     "output_type": "error",
     "traceback": [
      "\u001b[1;36m  Input \u001b[1;32mIn [3]\u001b[1;36m\u001b[0m\n\u001b[1;33m    my name =\"Pemtuklepcha\"\u001b[0m\n\u001b[1;37m       ^\u001b[0m\n\u001b[1;31mSyntaxError\u001b[0m\u001b[1;31m:\u001b[0m invalid syntax\n"
     ]
    }
   ],
   "source": [
    "my name =\"Pemtuklepcha\""
   ]
  },
  {
   "cell_type": "code",
   "execution_count": 4,
   "id": "f2df8ce4",
   "metadata": {},
   "outputs": [],
   "source": [
    "myname=\"Pemtuklepch\""
   ]
  },
  {
   "cell_type": "code",
   "execution_count": 5,
   "id": "e0fcb730",
   "metadata": {
    "scrolled": true
   },
   "outputs": [
    {
     "data": {
      "text/plain": [
       "'Pemtuklepch'"
      ]
     },
     "execution_count": 5,
     "metadata": {},
     "output_type": "execute_result"
    }
   ],
   "source": [
    "myname"
   ]
  },
  {
   "cell_type": "code",
   "execution_count": 8,
   "id": "89c7cc43",
   "metadata": {
    "scrolled": true
   },
   "outputs": [
    {
     "name": "stdout",
     "output_type": "stream",
     "text": [
      "11\n"
     ]
    }
   ],
   "source": [
    "x=len(myname)\n",
    "print(x)"
   ]
  },
  {
   "cell_type": "code",
   "execution_count": null,
   "id": "2a996d60",
   "metadata": {},
   "outputs": [],
   "source": []
  },
  {
   "cell_type": "markdown",
   "id": "2fd26c44",
   "metadata": {},
   "source": [
    "indentation"
   ]
  },
  {
   "cell_type": "code",
   "execution_count": 15,
   "id": "8877709d",
   "metadata": {},
   "outputs": [
    {
     "name": "stdout",
     "output_type": "stream",
     "text": [
      "five is greter then two\n"
     ]
    }
   ],
   "source": [
    "if 5 > 2:\n",
    "    print(\"Five is greter then two\")"
   ]
  },
  {
   "cell_type": "markdown",
   "id": "efda1c07",
   "metadata": {},
   "source": [
    "indexing"
   ]
  },
  {
   "cell_type": "code",
   "execution_count": 16,
   "id": "99b5e132",
   "metadata": {},
   "outputs": [
    {
     "data": {
      "text/plain": [
       "'Pemtuklepch'"
      ]
     },
     "execution_count": 16,
     "metadata": {},
     "output_type": "execute_result"
    }
   ],
   "source": [
    "myname"
   ]
  },
  {
   "cell_type": "code",
   "execution_count": 18,
   "id": "5cedbf49",
   "metadata": {},
   "outputs": [
    {
     "data": {
      "text/plain": [
       "'tu'"
      ]
     },
     "execution_count": 18,
     "metadata": {},
     "output_type": "execute_result"
    }
   ],
   "source": [
    "myname[3:5]"
   ]
  },
  {
   "cell_type": "code",
   "execution_count": 19,
   "id": "d1dbbc66",
   "metadata": {},
   "outputs": [
    {
     "data": {
      "text/plain": [
       "'mu'"
      ]
     },
     "execution_count": 19,
     "metadata": {},
     "output_type": "execute_result"
    }
   ],
   "source": [
    "myname[2:6:2]"
   ]
  },
  {
   "cell_type": "markdown",
   "id": "55a39d3c",
   "metadata": {},
   "source": [
    "work"
   ]
  },
  {
   "cell_type": "code",
   "execution_count": null,
   "id": "2a213539",
   "metadata": {},
   "outputs": [],
   "source": []
  }
 ],
 "metadata": {
  "kernelspec": {
   "display_name": "Python 3 (ipykernel)",
   "language": "python",
   "name": "python3"
  },
  "language_info": {
   "codemirror_mode": {
    "name": "ipython",
    "version": 3
   },
   "file_extension": ".py",
   "mimetype": "text/x-python",
   "name": "python",
   "nbconvert_exporter": "python",
   "pygments_lexer": "ipython3",
   "version": "3.10.9"
  }
 },
 "nbformat": 4,
 "nbformat_minor": 5
}
