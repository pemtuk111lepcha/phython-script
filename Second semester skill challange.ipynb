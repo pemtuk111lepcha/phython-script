{
 "cells": [
  {
   "cell_type": "markdown",
   "id": "7dde4472",
   "metadata": {},
   "source": [
    "1) Python program to ckeck element present  in list or not"
   ]
  },
  {
   "cell_type": "code",
   "execution_count": 24,
   "id": "360a217a",
   "metadata": {},
   "outputs": [
    {
     "name": "stdout",
     "output_type": "stream",
     "text": [
      "Enter element:z\n",
      "False\n"
     ]
    }
   ],
   "source": [
    "#user input \n",
    "n = input(\"Enter element:\")\n",
    "\n",
    "my_list = ['s','d','A','b','e']\n",
    "\n",
    "#check input element is present in list or not\n",
    "if n in my_list:\n",
    "    #if present\n",
    "    print(\"True\")\n",
    "else:\n",
    "    #if not present\n",
    "    print(\"False\")\n",
    "\n",
    "    "
   ]
  },
  {
   "cell_type": "markdown",
   "id": "2ff937ed",
   "metadata": {},
   "source": [
    "2)Python program for multipilaction"
   ]
  },
  {
   "cell_type": "code",
   "execution_count": 18,
   "id": "43138782",
   "metadata": {},
   "outputs": [],
   "source": [
    "#function for multiplication table\n",
    "def mul():\n",
    "#user number input for multiplication\n",
    "    n=int(input(\"Enter number\"))\n",
    "    for i in range(1,11):\n",
    "        num=i*n\n",
    "        print(n,\"*\",i,\"=\",num)"
   ]
  },
  {
   "cell_type": "code",
   "execution_count": 19,
   "id": "3a05829a",
   "metadata": {},
   "outputs": [
    {
     "name": "stdout",
     "output_type": "stream",
     "text": [
      "Enter number5\n",
      "5 * 1 = 5\n",
      "5 * 2 = 10\n",
      "5 * 3 = 15\n",
      "5 * 4 = 20\n",
      "5 * 5 = 25\n",
      "5 * 6 = 30\n",
      "5 * 7 = 35\n",
      "5 * 8 = 40\n",
      "5 * 9 = 45\n",
      "5 * 10 = 50\n"
     ]
    }
   ],
   "source": [
    "mul()"
   ]
  },
  {
   "cell_type": "markdown",
   "id": "07cebfa7",
   "metadata": {},
   "source": [
    "3) Python program to open file and write\n"
   ]
  },
  {
   "cell_type": "code",
   "execution_count": 25,
   "id": "0cd7b94a",
   "metadata": {},
   "outputs": [],
   "source": [
    "#create a new txt file \n",
    "with open('file.txt', 'w') as f:\n",
    "    #write your text here\n",
    "    f.write('Hello world!')\n",
    "\n",
    "    "
   ]
  },
  {
   "cell_type": "code",
   "execution_count": 27,
   "id": "5742b6f9",
   "metadata": {},
   "outputs": [
    {
     "name": "stdout",
     "output_type": "stream",
     "text": [
      "Hello world!\n"
     ]
    }
   ],
   "source": [
    "#open the files.txt\n",
    "with open('file.txt', 'r') as f:\n",
    "    file_content = f.read()\n",
    "    print(file_content)\n"
   ]
  },
  {
   "cell_type": "markdown",
   "id": "3287bf79",
   "metadata": {},
   "source": [
    "4)using python program create a package with 2 modules/files operation and display\n"
   ]
  },
  {
   "cell_type": "code",
   "execution_count": 29,
   "id": "a20ceb93",
   "metadata": {},
   "outputs": [
    {
     "ename": "ModuleNotFoundError",
     "evalue": "No module named 'mypackage'",
     "output_type": "error",
     "traceback": [
      "\u001b[1;31m---------------------------------------------------------------------------\u001b[0m",
      "\u001b[1;31mModuleNotFoundError\u001b[0m                       Traceback (most recent call last)",
      "Cell \u001b[1;32mIn[29], line 12\u001b[0m\n\u001b[0;32m     10\u001b[0m \u001b[38;5;28;01mdef\u001b[39;00m \u001b[38;5;21mdivide\u001b[39m(a,b):\n\u001b[0;32m     11\u001b[0m     \u001b[38;5;28;01mreturn\u001b[39;00m a\u001b[38;5;241m/\u001b[39mb\n\u001b[1;32m---> 12\u001b[0m \u001b[38;5;28;01mimport\u001b[39;00m \u001b[38;5;21;01mmypackage\u001b[39;00m\u001b[38;5;21;01m.\u001b[39;00m\u001b[38;5;21;01moperation\u001b[39;00m \u001b[38;5;28;01mas\u001b[39;00m \u001b[38;5;21;01mop\u001b[39;00m\n\u001b[0;32m     13\u001b[0m \u001b[38;5;28;01mimport\u001b[39;00m \u001b[38;5;21;01mmypackage\u001b[39;00m\u001b[38;5;21;01m.\u001b[39;00m\u001b[38;5;21;01mdisplay\u001b[39;00m \u001b[38;5;28;01mas\u001b[39;00m \u001b[38;5;21;01mdp\u001b[39;00m\n\u001b[0;32m     15\u001b[0m \u001b[38;5;28mprint\u001b[39m(op\u001b[38;5;241m.\u001b[39madd(\u001b[38;5;241m2\u001b[39m,\u001b[38;5;241m3\u001b[39m))\n",
      "\u001b[1;31mModuleNotFoundError\u001b[0m: No module named 'mypackage'"
     ]
    }
   ],
   "source": [
    "def add(a,b):\n",
    "    return a+b\n",
    "\n",
    "def subtract(a,b):\n",
    "    return a-b\n",
    "\n",
    "def multiply(a,b):\n",
    "    return a*b\n",
    "\n",
    "def divide(a,b):\n",
    "    return a/b\n"
   ]
  },
  {
   "cell_type": "code",
   "execution_count": 30,
   "id": "965e02a5",
   "metadata": {},
   "outputs": [
    {
     "ename": "ModuleNotFoundError",
     "evalue": "No module named 'mypackage'",
     "output_type": "error",
     "traceback": [
      "\u001b[1;31m---------------------------------------------------------------------------\u001b[0m",
      "\u001b[1;31mModuleNotFoundError\u001b[0m                       Traceback (most recent call last)",
      "Cell \u001b[1;32mIn[30], line 1\u001b[0m\n\u001b[1;32m----> 1\u001b[0m \u001b[38;5;28;01mimport\u001b[39;00m \u001b[38;5;21;01mmypackage\u001b[39;00m\u001b[38;5;21;01m.\u001b[39;00m\u001b[38;5;21;01moperation\u001b[39;00m \u001b[38;5;28;01mas\u001b[39;00m \u001b[38;5;21;01mop\u001b[39;00m\n\u001b[0;32m      2\u001b[0m \u001b[38;5;28;01mimport\u001b[39;00m \u001b[38;5;21;01mmypackage\u001b[39;00m\u001b[38;5;21;01m.\u001b[39;00m\u001b[38;5;21;01mdisplay\u001b[39;00m \u001b[38;5;28;01mas\u001b[39;00m \u001b[38;5;21;01mdp\u001b[39;00m\n\u001b[0;32m      4\u001b[0m \u001b[38;5;28mprint\u001b[39m(op\u001b[38;5;241m.\u001b[39madd(\u001b[38;5;241m2\u001b[39m,\u001b[38;5;241m3\u001b[39m))\n",
      "\u001b[1;31mModuleNotFoundError\u001b[0m: No module named 'mypackage'"
     ]
    }
   ],
   "source": [
    "class "
   ]
  },
  {
   "cell_type": "markdown",
   "id": "dd343d39",
   "metadata": {},
   "source": [
    "write a unit test function"
   ]
  },
  {
   "cell_type": "code",
   "execution_count": null,
   "id": "94ae0a62",
   "metadata": {},
   "outputs": [],
   "source": [
    "import mypackage.operation as op\n",
    "import mypackage.display as dp\n",
    "\n",
    "print(op.add(2,3))\n",
    "print(dp.print_hello())"
   ]
  }
 ],
 "metadata": {
  "kernelspec": {
   "display_name": "Python 3 (ipykernel)",
   "language": "python",
   "name": "python3"
  },
  "language_info": {
   "codemirror_mode": {
    "name": "ipython",
    "version": 3
   },
   "file_extension": ".py",
   "mimetype": "text/x-python",
   "name": "python",
   "nbconvert_exporter": "python",
   "pygments_lexer": "ipython3",
   "version": "3.10.9"
  }
 },
 "nbformat": 4,
 "nbformat_minor": 5
}
