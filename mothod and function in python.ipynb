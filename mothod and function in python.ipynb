{
 "cells": [
  {
   "cell_type": "code",
   "execution_count": null,
   "id": "1e2c98df",
   "metadata": {},
   "outputs": [],
   "source": [
    "#Methods in Python\n",
    "In [2]:\n",
    "mylist = [1,2,3]\n",
    "mylist.append(4)\n",
    "In [3]:\n",
    "mylist\n",
    "Out[3]: In [4]:\n",
    "mylist.pop()\n",
    "Out[4]: In [5]:\n",
    "mylist\n",
    "Out[5]: In [6]:\n",
    "help(mylist.insert)\n",
    "In [7]:\n",
    "#def keyword\n",
    "In [8]:\n",
    "def name_of_function():\n",
    " '''\n",
    " Docstring explains function\n",
    " '''\n",
    " print('hello bca')\n",
    "In [9]:\n",
    "name_of_function()\n",
    "In [10]:\n",
    "def arg_name(name):\n",
    " print(f'Hello my name is {name}')\n",
    "\n",
    "In [18]: name = arg_name('Diwash')\n",
    "In [19]: name\n",
    "In [20]:\n",
    "def add_function(num1,num2):\n",
    " return num1+num2\n",
    "In [21]:\n",
    "result = add_function(20,30)\n",
    "In [22]:\n",
    "result\n",
    "Out[22]: In [23]: def say_hello():\n",
    " print('Hello')\n",
    "Hello\n",
    "hello\n",
    "how\n",
    "are\n",
    "you?\n",
    "hello\n",
    "how\n",
    "are\n",
    "you?\n",
    "Hello my name is this is the deault value\n",
    "int\n",
    "30\n",
    "NoneType\n",
    "30\n",
    "30\n",
    "30\n",
    "In [24]:\n",
    "say_hello()\n",
    "In [25]:\n",
    "def say_hello():\n",
    " print('hello')\n",
    " print('how')\n",
    " print('are')\n",
    " print('you?')\n",
    "In [26]:\n",
    "say_hello()\n",
    "In [27]:\n",
    "say_hello()\n",
    "In [33]:\n",
    "def said_hello(name = 'this is the deault value'):\n",
    " print(f'Hello my name is {name}')\n",
    "In [35]:\n",
    "said_hello()\n",
    "In [36]:\n",
    "def add_num(num1,num2):\n",
    " return num1+num2\n",
    "In [37]:\n",
    "def print_result(num1,num2):\n",
    " print(num1+num2)\n",
    "In [41]:\n",
    "type(add_num(10,20))\n",
    "Out[41]: In [42]:\n",
    "type(print_result(10,20))\n",
    "Out[42]: In [43]:\n",
    "saving = add_num(10,20)\n",
    "In [44]:\n",
    "saving\n",
    "Out[44]: In [45]:\n",
    "def func(a,b):\n",
    " print(a+b)\n",
    " return a+b\n",
    "In [47]:\n",
    "result = func(10,20)\n",
    "In [48]: result\n",
    "'4060'\n",
    "0\n",
    "1\n",
    "20\n",
    "20\n",
    "0\n",
    "1\n",
    "True\n",
    "False\n",
    "False\n",
    "True\n",
    "Out[48]: In [52]:\n",
    "def number_add(num1,num2):\n",
    " return num1+num2\n",
    "In [54]:\n",
    "number_add('40','60')\n",
    "Out[54]: In [55]:\n",
    "#Logic with python functions\n",
    "In [1]:\n",
    "2%2\n",
    "Out[1]: In [2]:\n",
    "3%2\n",
    "Out[2]: In [5]:\n",
    "20%21\n",
    "Out[5]: In [6]:\n",
    "20 % 21\n",
    "Out[6]: In [7]:\n",
    "4%2\n",
    "Out[7]: In [8]:\n",
    "5%2\n",
    "Out[8]: In [9]:\n",
    "4%2 == 0\n",
    "Out[9]: In [10]:\n",
    "5%2 == 0\n",
    "Out[10]: In [13]:\n",
    "def even_check(num):\n",
    " return num%2 == 0\n",
    "even_check(5)\n",
    "Out[13]: In [26]:\n",
    "def check_even(num_list):\n",
    " for number in num_list:\n",
    " if number%2 == 0:\n",
    " return True\n",
    " else:\n",
    " pass\n",
    " return False\n",
    "check_even([1,1,4])\n",
    "Out[26]:\n",
    "[4, 6, 12, 14]\n",
    "('APPLE', 100)\n",
    "('GOOGLE', 400)\n",
    "('MICROSOFT', 800)\n",
    "110.0\n",
    "440.0\n",
    "880.0\n",
    "('Sammy', 800)\n",
    "('Sammy', 800)\n",
    "'Sammy'\n",
    "800\n",
    "In [27]:\n",
    "def check_even_list(num_list):\n",
    " even_numbers = [] #placeholder values\n",
    " for number in num_list:\n",
    " if number%2==0:\n",
    " even_numbers.append(number)\n",
    " else:\n",
    " pass\n",
    " return even_numbers\n",
    "check_even_list([1,4,5,6,9,7,12,13,14])\n",
    "Out[27]: In [28]:\n",
    "#Functions and Tuple Unpacking in Python\n",
    "In [29]:\n",
    "stock_prices = [('APPLE',100),('GOOGLE',400),('MICROSOFT',800)]\n",
    "for item in stock_prices:\n",
    " print(item)\n",
    "In [32]:\n",
    "for ticker,price in stock_prices:\n",
    " print(price+(0.1*price))\n",
    "\n",
    "In [36]:\n",
    "work_hours = [('Abby',400),('Sammy',800),('Andy',300)]\n",
    "def employee_check(work_hours):\n",
    " current_max = 0\n",
    " employee_of_month = ''\n",
    " for employee,hours in work_hours:\n",
    " if hours>current_max:\n",
    " current_max = hours\n",
    " employee_of_month = employee\n",
    " else:\n",
    " pass\n",
    " return(employee_of_month,current_max)\n",
    "In [37]:\n",
    "employee_check(work_hours)\n",
    "Out[37]: In [38]:\n",
    "result = employee_check(work_hours)\n",
    "In [39]:\n",
    "result\n",
    "Out[39]: In [40]: name,hours = employee_check(work_hours)\n",
    "In [41]: name\n",
    "Out[41]: In [42]: hours\n",
    "Out[42]:\n",
    "---------------------------------------------------------------------------\n",
    "ValueError Traceback (most recent call last)\n",
    "Cell In[43], line 1\n",
    "----> 1 name,hours,location = employee_check(work_hours)\n",
    "ValueError: not enough values to unpack (expected 3, got 2)\n",
    "('Sammy', 800)\n",
    "In [43]: name,hours,location = employee_check(work_hours)\n",
    "In [46]:\n",
    "item = employee_check(work_hours)\n",
    "In [47]:\n",
    "item               "
   ]
  },
  {
   "cell_type": "code",
   "execution_count": 1,
   "id": "f2b4c922",
   "metadata": {},
   "outputs": [],
   "source": [
    "mylist = [1,2,3]\n",
    "mylist.append(4)"
   ]
  },
  {
   "cell_type": "code",
   "execution_count": 2,
   "id": "9b8cc17f",
   "metadata": {},
   "outputs": [
    {
     "data": {
      "text/plain": [
       "[1, 2, 3, 4]"
      ]
     },
     "execution_count": 2,
     "metadata": {},
     "output_type": "execute_result"
    }
   ],
   "source": [
    "mylist"
   ]
  },
  {
   "cell_type": "code",
   "execution_count": 3,
   "id": "07f599c0",
   "metadata": {},
   "outputs": [
    {
     "data": {
      "text/plain": [
       "4"
      ]
     },
     "execution_count": 3,
     "metadata": {},
     "output_type": "execute_result"
    }
   ],
   "source": [
    "mylist.pop()"
   ]
  },
  {
   "cell_type": "code",
   "execution_count": 4,
   "id": "7ba26175",
   "metadata": {},
   "outputs": [
    {
     "name": "stdout",
     "output_type": "stream",
     "text": [
      "Help on built-in function insert:\n",
      "\n",
      "insert(index, object, /) method of builtins.list instance\n",
      "    Insert object before index.\n",
      "\n"
     ]
    }
   ],
   "source": [
    "help(mylist.insert)"
   ]
  },
  {
   "cell_type": "code",
   "execution_count": 5,
   "id": "53237328",
   "metadata": {},
   "outputs": [],
   "source": [
    "def name_of_function():\n",
    " '''\n",
    " Docstring explains function\n",
    " '''\n",
    " print('hello bca')"
   ]
  },
  {
   "cell_type": "code",
   "execution_count": 6,
   "id": "41bff6b8",
   "metadata": {},
   "outputs": [
    {
     "name": "stdout",
     "output_type": "stream",
     "text": [
      "hello bca\n"
     ]
    }
   ],
   "source": [
    "name_of_function()"
   ]
  },
  {
   "cell_type": "code",
   "execution_count": 7,
   "id": "d48494d5",
   "metadata": {},
   "outputs": [],
   "source": [
    "def arg_name(name):\n",
    " print(f'Hello my name is {name}')\n"
   ]
  },
  {
   "cell_type": "code",
   "execution_count": 8,
   "id": "3aa05028",
   "metadata": {},
   "outputs": [
    {
     "name": "stdout",
     "output_type": "stream",
     "text": [
      "Hello my name is Diwash\n"
     ]
    }
   ],
   "source": [
    " name = arg_name('Diwash')"
   ]
  },
  {
   "cell_type": "code",
   "execution_count": 9,
   "id": "94f3a411",
   "metadata": {},
   "outputs": [],
   "source": [
    "#TLO3"
   ]
  },
  {
   "cell_type": "markdown",
   "id": "f1d0a2dd",
   "metadata": {},
   "source": [
    "1. Exercise: Concatenate two strings and find the length of the concatenated string."
   ]
  },
  {
   "cell_type": "code",
   "execution_count": 10,
   "id": "657a30e6",
   "metadata": {},
   "outputs": [
    {
     "name": "stdout",
     "output_type": "stream",
     "text": [
      "Length of the concatenated string: 17\n"
     ]
    }
   ],
   "source": [
    "string1 = \"Python\"\n",
    "string2 = \"Programming\"\n",
    "concatenated_string = string1 + string2\n",
    "length = len(concatenated_string)\n",
    "print(\"Length of the concatenated string:\", length)"
   ]
  },
  {
   "cell_type": "markdown",
   "id": "67c9e0be",
   "metadata": {},
   "source": [
    "2. Exercise: Find the index of a specific character in a string."
   ]
  },
  {
   "cell_type": "code",
   "execution_count": 11,
   "id": "94c242a8",
   "metadata": {},
   "outputs": [
    {
     "name": "stdout",
     "output_type": "stream",
     "text": [
      "Index of character 'p': 31\n"
     ]
    }
   ],
   "source": [
    "input_string = \"Python is an easy-to-learn and powerful programming language\"\n",
    "character_to_find = \"p\"\n",
    "index = input_string.find(character_to_find)\n",
    "print(f\"Index of character '{character_to_find}': {index}\")"
   ]
  },
  {
   "cell_type": "markdown",
   "id": "1a9987a8",
   "metadata": {},
   "source": [
    "3. Exercise: Use a dictionary to store the following key-value pairs: {\"A\": 1, \"B\": 2, \"C\": 3}. Retrieve the value associated with the key \"B\"."
   ]
  },
  {
   "cell_type": "code",
   "execution_count": 12,
   "id": "acef6d8e",
   "metadata": {},
   "outputs": [
    {
     "name": "stdout",
     "output_type": "stream",
     "text": [
      "Value associated with key 'B': 2\n"
     ]
    }
   ],
   "source": [
    "my_dict = {\"A\": 1, \"B\": 2, \"C\": 3}\n",
    "value = my_dict.get(\"B\")\n",
    "print(\"Value associated with key 'B':\", value)"
   ]
  },
  {
   "cell_type": "markdown",
   "id": "90b2ebf9",
   "metadata": {},
   "source": [
    "4. Exercise: Create a tuple with the following elements: 1, 4, 9, 16, 25. Find the length of the tuple."
   ]
  },
  {
   "cell_type": "code",
   "execution_count": 14,
   "id": "c3ec63eb",
   "metadata": {},
   "outputs": [
    {
     "name": "stdout",
     "output_type": "stream",
     "text": [
      "Length of the tuple: 5\n"
     ]
    }
   ],
   "source": [
    "my_tuple = (1, 4, 9, 16, 25)\n",
    "length = len(my_tuple)\n",
    "print(\"Length of the tuple:\", length)"
   ]
  },
  {
   "cell_type": "markdown",
   "id": "d2d04aa1",
   "metadata": {},
   "source": [
    "5. Exercise: Create a set with the following elements: 1, 2, 3, 4, 5, 2, 3, 4. Find the length of the set."
   ]
  },
  {
   "cell_type": "code",
   "execution_count": 20,
   "id": "055cd7d5",
   "metadata": {},
   "outputs": [
    {
     "name": "stdout",
     "output_type": "stream",
     "text": [
      "Length of the set: 5\n"
     ]
    }
   ],
   "source": [
    "mysets = {1, 4, 2, 3, 4, 5, 2, 3, 4}\n",
    "length = len(mysets)\n",
    "print(\"Length of the set:\", length)"
   ]
  },
  {
   "cell_type": "code",
   "execution_count": null,
   "id": "1901d6b8",
   "metadata": {},
   "outputs": [],
   "source": []
  }
 ],
 "metadata": {
  "kernelspec": {
   "display_name": "Python 3 (ipykernel)",
   "language": "python",
   "name": "python3"
  },
  "language_info": {
   "codemirror_mode": {
    "name": "ipython",
    "version": 3
   },
   "file_extension": ".py",
   "mimetype": "text/x-python",
   "name": "python",
   "nbconvert_exporter": "python",
   "pygments_lexer": "ipython3",
   "version": "3.10.9"
  }
 },
 "nbformat": 4,
 "nbformat_minor": 5
}
