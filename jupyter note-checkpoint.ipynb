{
 "cells": [
  {
   "cell_type": "code",
   "execution_count": 1,
   "id": "a9f20951",
   "metadata": {},
   "outputs": [
    {
     "data": {
      "text/plain": [
       "21542"
      ]
     },
     "execution_count": 1,
     "metadata": {},
     "output_type": "execute_result"
    }
   ],
   "source": [
    "21221+321"
   ]
  },
  {
   "cell_type": "code",
   "execution_count": 2,
   "id": "fb8f5709",
   "metadata": {},
   "outputs": [
    {
     "data": {
      "text/plain": [
       "2.3333333333333335"
      ]
     },
     "execution_count": 2,
     "metadata": {},
     "output_type": "execute_result"
    }
   ],
   "source": [
    "7/3"
   ]
  },
  {
   "cell_type": "code",
   "execution_count": 3,
   "id": "3379ce46",
   "metadata": {},
   "outputs": [
    {
     "data": {
      "text/plain": [
       "2"
      ]
     },
     "execution_count": 3,
     "metadata": {},
     "output_type": "execute_result"
    }
   ],
   "source": [
    "7//3"
   ]
  },
  {
   "cell_type": "code",
   "execution_count": 4,
   "id": "82d6c14e",
   "metadata": {},
   "outputs": [],
   "source": [
    "#this is comment"
   ]
  },
  {
   "cell_type": "code",
   "execution_count": 5,
   "id": "9266160b",
   "metadata": {},
   "outputs": [
    {
     "ename": "SyntaxError",
     "evalue": "invalid syntax (4210760407.py, line 1)",
     "output_type": "error",
     "traceback": [
      "\u001b[1;36m  Input \u001b[1;32mIn [5]\u001b[1;36m\u001b[0m\n\u001b[1;33m    module or mod\"%\"\"\u001b[0m\n\u001b[1;37m                 ^\u001b[0m\n\u001b[1;31mSyntaxError\u001b[0m\u001b[1;31m:\u001b[0m invalid syntax\n"
     ]
    }
   ],
   "source": [
    "module or mod\"%\"\""
   ]
  },
  {
   "cell_type": "code",
   "execution_count": 3,
   "id": "64105f15",
   "metadata": {},
   "outputs": [
    {
     "name": "stdout",
     "output_type": "stream",
     "text": [
      "-2\n",
      "6\n",
      "8\n",
      "0\n"
     ]
    }
   ],
   "source": [
    "a=2\n",
    "b=4\n",
    "add= a-b\n",
    "sub= a+b\n",
    "multi= a*b\n",
    "floor= a//b\n",
    "print(add)\n",
    "print(sub)\n",
    "print(multi)\n",
    "print(floor)"
   ]
  },
  {
   "cell_type": "code",
   "execution_count": 2,
   "id": "24821e3a",
   "metadata": {},
   "outputs": [
    {
     "name": "stdout",
     "output_type": "stream",
     "text": [
      "10.0\n"
     ]
    }
   ],
   "source": [
    "my_income= 100\n",
    "text_rate= 0.1\n",
    "my_final_text = my_income * text_rate\n",
    "print(my_final_text)"
   ]
  },
  {
   "cell_type": "code",
   "execution_count": 4,
   "id": "a0a9a916",
   "metadata": {},
   "outputs": [
    {
     "name": "stdout",
     "output_type": "stream",
     "text": [
      "42\n"
     ]
    }
   ],
   "source": [
    "integer_var=42\n",
    "print(integer_var)"
   ]
  },
  {
   "cell_type": "markdown",
   "id": "d231c89a",
   "metadata": {},
   "source": [
    "sterings"
   ]
  },
  {
   "cell_type": "code",
   "execution_count": null,
   "id": "197d7ccc",
   "metadata": {},
   "outputs": [],
   "source": []
  }
 ],
 "metadata": {
  "kernelspec": {
   "display_name": "Python 3 (ipykernel)",
   "language": "python",
   "name": "python3"
  },
  "language_info": {
   "codemirror_mode": {
    "name": "ipython",
    "version": 3
   },
   "file_extension": ".py",
   "mimetype": "text/x-python",
   "name": "python",
   "nbconvert_exporter": "python",
   "pygments_lexer": "ipython3",
   "version": "3.9.12"
  }
 },
 "nbformat": 4,
 "nbformat_minor": 5
}
