{
 "cells": [
  {
   "cell_type": "markdown",
   "id": "740085ca",
   "metadata": {},
   "source": [
    "1.vrebial"
   ]
  },
  {
   "cell_type": "code",
   "execution_count": 4,
   "id": "ac7f439e",
   "metadata": {},
   "outputs": [
    {
     "name": "stdout",
     "output_type": "stream",
     "text": [
      "12\n",
      "8\n",
      "20\n",
      "5.0\n"
     ]
    }
   ],
   "source": [
    "a=2\n",
    "b=10\n",
    "add=a+b\n",
    "sub=b-a\n",
    "devid=b/a\n",
    "multi=a*b\n",
    "print(add)\n",
    "print(sub)\n",
    "print(multi)\n",
    "print(devid)"
   ]
  },
  {
   "cell_type": "markdown",
   "id": "ded97967",
   "metadata": {},
   "source": [
    "2.string"
   ]
  },
  {
   "cell_type": "code",
   "execution_count": 5,
   "id": "01315652",
   "metadata": {},
   "outputs": [],
   "source": [
    "myname='pemtuklepcha'"
   ]
  },
  {
   "cell_type": "code",
   "execution_count": 6,
   "id": "2b748d1c",
   "metadata": {},
   "outputs": [
    {
     "data": {
      "text/plain": [
       "'pemtuklepcha'"
      ]
     },
     "execution_count": 6,
     "metadata": {},
     "output_type": "execute_result"
    }
   ],
   "source": [
    "myname"
   ]
  },
  {
   "cell_type": "code",
   "execution_count": 7,
   "id": "8ab13ac5",
   "metadata": {},
   "outputs": [
    {
     "data": {
      "text/plain": [
       "12"
      ]
     },
     "execution_count": 7,
     "metadata": {},
     "output_type": "execute_result"
    }
   ],
   "source": [
    "len(myname)"
   ]
  },
  {
   "cell_type": "markdown",
   "id": "b6baa4f9",
   "metadata": {},
   "source": [
    "3.area of rectangle"
   ]
  },
  {
   "cell_type": "code",
   "execution_count": 16,
   "id": "bee0a750",
   "metadata": {},
   "outputs": [
    {
     "name": "stdout",
     "output_type": "stream",
     "text": [
      "200\n"
     ]
    }
   ],
   "source": [
    "length=10\n",
    "width=20\n",
    "area=length*wwidth\n",
    "print(area)"
   ]
  },
  {
   "cell_type": "code",
   "execution_count": null,
   "id": "0841d567",
   "metadata": {},
   "outputs": [],
   "source": []
  }
 ],
 "metadata": {
  "kernelspec": {
   "display_name": "Python 3 (ipykernel)",
   "language": "python",
   "name": "python3"
  },
  "language_info": {
   "codemirror_mode": {
    "name": "ipython",
    "version": 3
   },
   "file_extension": ".py",
   "mimetype": "text/x-python",
   "name": "python",
   "nbconvert_exporter": "python",
   "pygments_lexer": "ipython3",
   "version": "3.9.12"
  }
 },
 "nbformat": 4,
 "nbformat_minor": 5
}
